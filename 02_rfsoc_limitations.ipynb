{
 "cells": [
  {
   "cell_type": "markdown",
   "metadata": {},
   "source": [
    "# RFSoC Limitations\n",
    "\n",
    "This notebook outlines the limitations of the RFSoC and the reasons why different methods of pulse generation may be utilised. \n",
    "\n",
    "Board parameters are stored in the dictionary `soccfg._cfg`."
   ]
  },
  {
   "cell_type": "code",
   "execution_count": 53,
   "metadata": {},
   "outputs": [],
   "source": [
    "# Board libraries\n",
    "from qick import *\n",
    "import Pyro4\n",
    "\n",
    "# Pyro communicates with board\n",
    "Pyro4.config.SERIALIZER = \"pickle\"\n",
    "Pyro4.config.PICKLE_PROTOCOL_VERSION=4\n",
    "\n",
    "# Static IP proxy\n",
    "ns_host = \"172.24.106.21\" # <-- SET IP ADDRESS\n",
    "ns_port = 8888\n",
    "proxy_name = \"myqick\"\n",
    "\n",
    "# QICK object\n",
    "ns = Pyro4.locateNS(host=ns_host, port=ns_port)\n",
    "soc = Pyro4.Proxy(ns.lookup(proxy_name))\n",
    "soccfg = QickConfig(soc.get_cfg())\n",
    "# print(soccfg)"
   ]
  },
  {
   "cell_type": "markdown",
   "metadata": {},
   "source": [
    "## DAC and DIG Pulses\n",
    "\n",
    "### tproc\n",
    "\n",
    "The time at which DAC and DIG pulses start, and DIG pulses end, is dictated by the QICK timed-processor (tproc).\n",
    "- Advantages:\n",
    "    - Synchronisation between channels.\n",
    "    - Easy to configure.\n",
    "- Disadvantage:\n",
    "    - Significant discretisation of time at which pulses may start.\n",
    "\n",
    "### DAC Fabric\n",
    "\n",
    "The length of DAC pulses when using a `\"const\"` envelope is dictated by the DAC fabric frequency.\n",
    "- Advantage:\n",
    "  - Easy to control amplitude and phase of DAC channels.\n",
    "- Disadvantage:\n",
    "    - Significant discretisation of lengths of pulses.\n",
    "\n",
    "### DAC Sampling Frequency\n",
    "\n",
    "The length of DAC pulses when using `\"arb\"` envelope is dictated by the DAC sampling frequency. This is 16 times the DAC fabric frequency and these envelopes must be padded to have a length that is a multiple of 16.\n",
    "- Advantages:\n",
    "    - Precise control of I and Q amplitudes within DAC.\n",
    "    - May create very short pulses, or pulses with unusual envelopes.\n",
    "- Disadvantage:\n",
    "    - More difficult to configure as 'raw' IQ amplitude envelopes utilised."
   ]
  },
  {
   "cell_type": "code",
   "execution_count": 55,
   "metadata": {},
   "outputs": [
    {
     "name": "stdout",
     "output_type": "stream",
     "text": [
      "tproc frequency: 409.6 MHz\n",
      "--> DAC and DIG pulse start time discretisation: 2.441 ns\n",
      "\n",
      "DAC fabric frequency: 614.4 MHz\n",
      "DAC sampling frequency: 9830.4 MHz\n",
      "--> DAC pulse length discretisation (1 DAC fabric cycle): 1.628 ns\n",
      "--> Minimum 'arb' pulse length (1 DAC sampling cycle): 101.725 ps\n",
      "--> Minimum 'const' pulse length (2^2 - 1 DAC fabric cycles): 4.883 ns\n",
      "--> Maximum pulse length (2^16 - 1 DAC fabric cycles): 106.665 us\n"
     ]
    }
   ],
   "source": [
    "dac_ch = 0\n",
    "f_tproc = soccfg['tprocs'][0]['f_time']\n",
    "f_fabric = soccfg['gens'][dac_ch]['f_fabric']\n",
    "fs = soccfg['gens'][dac_ch]['fs']\n",
    "\n",
    "print(f\"tproc frequency: {f_tproc} MHz\")\n",
    "print(f\"--> DAC and DIG pulse start time discretisation: {round((1/f_tproc)*1e3,3)} ns\")\n",
    "\n",
    "print(f\"\\nDAC fabric frequency: {f_fabric} MHz\")\n",
    "print(f\"DAC sampling frequency: {fs} MHz\")\n",
    "print(f\"--> DAC pulse length discretisation (1 DAC fabric cycle): {round((1/f_fabric)*1e3,3)} ns\")\n",
    "print(f\"--> Minimum 'arb' pulse length (1 DAC sampling cycle): {round(1/fs*1e6,3)} ps\")\n",
    "print(f\"--> Minimum 'const' pulse length (2^2 - 1 DAC fabric cycles): {round(3*(1/f_fabric)*1e3,3)} ns\")\n",
    "print(f\"--> Maximum pulse length (2^16 - 1 DAC fabric cycles): {round(65535*(1/f_fabric),3)} us\")"
   ]
  },
  {
   "cell_type": "markdown",
   "metadata": {},
   "source": [
    "## ADC Readout Buffers\n",
    "\n",
    "### Readout Buffer\n",
    "\n",
    "- The built-in readout buffers of each channel are the most convenient to use.\n",
    "- The `outsel` parameter of the `set_readout_registers()` function may be used to configure whether raw samples are taken or IQ demodulation is to be used.\n",
    "\n",
    "### DDR4 Buffer\n",
    "\n",
    "- The DDR4 buffer is used when many samples wish to be taken. It has by far the largest buffer period, however, it also downsamples the data by a factor of 8.\n",
    "\n",
    "### MR Buffer\n",
    "\n",
    "- The multi-rate buffer is used when the full-sampling frequency of the ADCs is to be used. It has the same buffer period as the readout buffers."
   ]
  },
  {
   "cell_type": "code",
   "execution_count": 54,
   "metadata": {},
   "outputs": [
    {
     "name": "stdout",
     "output_type": "stream",
     "text": [
      "ADC sampling frequency: 4423.68 MHz\n",
      "--> Readout and DDR4 buffer (decimated) sampling frequencies: 552.96 MHz\n",
      "--> Multi-rate (MR) buffer sampling frequency: 4423.68 MHz\n",
      "\n",
      "Readout buffer length: 1024 samples\n",
      "--> Readout buffer period: 1.852 us\n",
      "\n",
      "DDR4 buffer length: 1073741023 samples\n",
      "--> DDR4 buffer period: 1.942 s\n",
      "\n",
      "MR buffer length: 8184 samples\n",
      "--> MR buffer period: 1.85 us\n"
     ]
    }
   ],
   "source": [
    "adc_ch = 0\n",
    "fs_adc = soccfg['readouts'][adc_ch]['fs']\n",
    "ro_buf_len = soccfg['readouts'][adc_ch]['buf_maxlen']\n",
    "ddr4_buf_len = soccfg['ddr4_buf']['maxlen'] - soccfg['ddr4_buf']['junk_len']\n",
    "mr_buf_len = soccfg['mr_buf']['maxlen']-soccfg['mr_buf']['junk_len']\n",
    "\n",
    "print(f\"ADC sampling frequency: {fs_adc} MHz\")\n",
    "print(f\"--> Readout and DDR4 buffer (decimated) sampling frequencies: {fs_adc/8} MHz\")\n",
    "print(f\"--> Multi-rate (MR) buffer sampling frequency: {fs_adc} MHz\")\n",
    "\n",
    "print(f\"\\nReadout buffer length: {ro_buf_len} samples\")\n",
    "print(f\"--> Readout buffer period: {round((8/fs_adc)*ro_buf_len,3)} us\")\n",
    "\n",
    "print(f\"\\nDDR4 buffer length: {ddr4_buf_len} samples\")\n",
    "print(f\"--> DDR4 buffer period: {round((8/fs_adc)*ddr4_buf_len/1e6,3)} s\")\n",
    "\n",
    "print(f\"\\nMR buffer length: {mr_buf_len} samples\")\n",
    "print(f\"--> MR buffer period: {round((1/fs_adc)*mr_buf_len,3)} us\")\n",
    "\n",
    "# for key, value in soccfg._cfg.items():\n",
    "#     print(key, value)"
   ]
  }
 ],
 "metadata": {
  "kernelspec": {
   "display_name": ".venv",
   "language": "python",
   "name": "python3"
  },
  "language_info": {
   "codemirror_mode": {
    "name": "ipython",
    "version": 3
   },
   "file_extension": ".py",
   "mimetype": "text/x-python",
   "name": "python",
   "nbconvert_exporter": "python",
   "pygments_lexer": "ipython3",
   "version": "3.9.13"
  }
 },
 "nbformat": 4,
 "nbformat_minor": 2
}
