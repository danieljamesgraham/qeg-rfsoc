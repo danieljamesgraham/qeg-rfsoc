{
 "cells": [
  {
   "cell_type": "code",
   "execution_count": null,
   "metadata": {},
   "outputs": [],
   "source": [
    "# Frequency must be specified and is fixed for entire sequence"
   ]
  },
  {
   "cell_type": "code",
   "execution_count": null,
   "metadata": {},
   "outputs": [],
   "source": [
    "import numpy as np"
   ]
  },
  {
   "cell_type": "code",
   "execution_count": 57,
   "metadata": {},
   "outputs": [],
   "source": [
    "# TODO: Use soccfg function\n",
    "fs_dac = 9830.4 # MHz\n",
    "\n",
    "gain = 10000 # arb.\n",
    "\n",
    "# Example sequence\n",
    "sequence = [(10, 1.0, None, 45),\n",
    "            (10, 0),\n",
    "            (2, 1.0, None, 60),\n",
    "            (2, 0),\n",
    "            (5, 1.0, None, 0),\n",
    "            ]"
   ]
  },
  {
   "cell_type": "code",
   "execution_count": 78,
   "metadata": {},
   "outputs": [
    {
     "name": "stdout",
     "output_type": "stream",
     "text": [
      "[9.969075520833334, 9.969075520833334, 2.0345052083333335, 2.0345052083333335, 4.984537760416667]\n",
      "0.029296875\n"
     ]
    }
   ],
   "source": [
    "idata, qdata = np.array([]), np.array([])\n",
    "actual_times = []\n",
    "\n",
    "for params in sequence:\n",
    "    # Extract parameters\n",
    "    length = params[0]\n",
    "    amp = params[1]\n",
    "\n",
    "    # Calculate number of DAC sampling cycles and actual pulse time\n",
    "    cycles = int(np.round((length/1e3) * fs_dac, 0))\n",
    "    actual_times.append(cycles/fs_dac * 1e3)\n",
    "\n",
    "    # Add pulses to idata and qdata\n",
    "    if 0 < amp <= 1: # Producing output\n",
    "        # Calculate amp_i and amp_q from phase and gain\n",
    "        phi = params[3]\n",
    "        dac_iq = np.round(np.e**(1j * phi * np.pi / 180), 10)\n",
    "        dac_i, dac_q = np.real(dac_iq), np.imag(dac_iq)\n",
    "        amp_i = int(gain * dac_i)\n",
    "        amp_q = int(gain * dac_q)\n",
    "\n",
    "        # Append appropriate number of amp_i and amp_q to idata and qdata\n",
    "        idata = np.concatenate((idata, np.full(shape=cycles, fill_value=amp_i, dtype=int)))\n",
    "        qdata = np.concatenate((qdata, np.full(shape=cycles, fill_value=amp_q, dtype=int)))\n",
    "    elif amp == 0: # Not producing output\n",
    "        # Append appropriate number of zeros to idata and qdata\n",
    "        idata = np.concatenate((idata, np.zeros(cycles, dtype=int)))\n",
    "        qdata = np.concatenate((qdata, np.zeros(cycles, dtype=int)))\n",
    "\n",
    "# Check lengths of idata and qdata match\n",
    "if len(idata) != len(qdata):\n",
    "    raise Exception\n",
    "\n",
    "# Pad data so that array lengths are multiples of 16\n",
    "padding = 16 - (len(idata) % 16)\n",
    "idata = np.pad(idata,\n",
    "            pad_width = (0, padding),\n",
    "            mode = 'constant',\n",
    "            constant_values = 0)\n",
    "qdata = np.pad(qdata,\n",
    "            pad_width = (0, padding),\n",
    "            mode = 'constant',\n",
    "            constant_values = 0)\n",
    "\n",
    "# Calculate time that sequence occupies DAC\n",
    "t_busy = len(idata) / fs_dac # us\n",
    "\n",
    "print(actual_times)\n",
    "print(t_busy)"
   ]
  },
  {
   "cell_type": "code",
   "execution_count": 79,
   "metadata": {},
   "outputs": [
    {
     "name": "stdout",
     "output_type": "stream",
     "text": [
      "[ 7071.  7071.  7071.  7071.  7071.  7071.  7071.  7071.  7071.  7071.\n",
      "  7071.  7071.  7071.  7071.  7071.  7071.  7071.  7071.  7071.  7071.\n",
      "  7071.  7071.  7071.  7071.  7071.  7071.  7071.  7071.  7071.  7071.\n",
      "  7071.  7071.  7071.  7071.  7071.  7071.  7071.  7071.  7071.  7071.\n",
      "  7071.  7071.  7071.  7071.  7071.  7071.  7071.  7071.  7071.  7071.\n",
      "  7071.  7071.  7071.  7071.  7071.  7071.  7071.  7071.  7071.  7071.\n",
      "  7071.  7071.  7071.  7071.  7071.  7071.  7071.  7071.  7071.  7071.\n",
      "  7071.  7071.  7071.  7071.  7071.  7071.  7071.  7071.  7071.  7071.\n",
      "  7071.  7071.  7071.  7071.  7071.  7071.  7071.  7071.  7071.  7071.\n",
      "  7071.  7071.  7071.  7071.  7071.  7071.  7071.  7071.     0.     0.\n",
      "     0.     0.     0.     0.     0.     0.     0.     0.     0.     0.\n",
      "     0.     0.     0.     0.     0.     0.     0.     0.     0.     0.\n",
      "     0.     0.     0.     0.     0.     0.     0.     0.     0.     0.\n",
      "     0.     0.     0.     0.     0.     0.     0.     0.     0.     0.\n",
      "     0.     0.     0.     0.     0.     0.     0.     0.     0.     0.\n",
      "     0.     0.     0.     0.     0.     0.     0.     0.     0.     0.\n",
      "     0.     0.     0.     0.     0.     0.     0.     0.     0.     0.\n",
      "     0.     0.     0.     0.     0.     0.     0.     0.     0.     0.\n",
      "     0.     0.     0.     0.     0.     0.     0.     0.     0.     0.\n",
      "     0.     0.     0.     0.     0.     0.  5000.  5000.  5000.  5000.\n",
      "  5000.  5000.  5000.  5000.  5000.  5000.  5000.  5000.  5000.  5000.\n",
      "  5000.  5000.  5000.  5000.  5000.  5000.     0.     0.     0.     0.\n",
      "     0.     0.     0.     0.     0.     0.     0.     0.     0.     0.\n",
      "     0.     0.     0.     0.     0.     0. 10000. 10000. 10000. 10000.\n",
      " 10000. 10000. 10000. 10000. 10000. 10000. 10000. 10000. 10000. 10000.\n",
      " 10000. 10000. 10000. 10000. 10000. 10000. 10000. 10000. 10000. 10000.\n",
      " 10000. 10000. 10000. 10000. 10000. 10000. 10000. 10000. 10000. 10000.\n",
      " 10000. 10000. 10000. 10000. 10000. 10000. 10000. 10000. 10000. 10000.\n",
      " 10000. 10000. 10000. 10000. 10000.     0.     0.     0.]\n",
      "[7071. 7071. 7071. 7071. 7071. 7071. 7071. 7071. 7071. 7071. 7071. 7071.\n",
      " 7071. 7071. 7071. 7071. 7071. 7071. 7071. 7071. 7071. 7071. 7071. 7071.\n",
      " 7071. 7071. 7071. 7071. 7071. 7071. 7071. 7071. 7071. 7071. 7071. 7071.\n",
      " 7071. 7071. 7071. 7071. 7071. 7071. 7071. 7071. 7071. 7071. 7071. 7071.\n",
      " 7071. 7071. 7071. 7071. 7071. 7071. 7071. 7071. 7071. 7071. 7071. 7071.\n",
      " 7071. 7071. 7071. 7071. 7071. 7071. 7071. 7071. 7071. 7071. 7071. 7071.\n",
      " 7071. 7071. 7071. 7071. 7071. 7071. 7071. 7071. 7071. 7071. 7071. 7071.\n",
      " 7071. 7071. 7071. 7071. 7071. 7071. 7071. 7071. 7071. 7071. 7071. 7071.\n",
      " 7071. 7071.    0.    0.    0.    0.    0.    0.    0.    0.    0.    0.\n",
      "    0.    0.    0.    0.    0.    0.    0.    0.    0.    0.    0.    0.\n",
      "    0.    0.    0.    0.    0.    0.    0.    0.    0.    0.    0.    0.\n",
      "    0.    0.    0.    0.    0.    0.    0.    0.    0.    0.    0.    0.\n",
      "    0.    0.    0.    0.    0.    0.    0.    0.    0.    0.    0.    0.\n",
      "    0.    0.    0.    0.    0.    0.    0.    0.    0.    0.    0.    0.\n",
      "    0.    0.    0.    0.    0.    0.    0.    0.    0.    0.    0.    0.\n",
      "    0.    0.    0.    0.    0.    0.    0.    0.    0.    0.    0.    0.\n",
      "    0.    0.    0.    0. 8660. 8660. 8660. 8660. 8660. 8660. 8660. 8660.\n",
      " 8660. 8660. 8660. 8660. 8660. 8660. 8660. 8660. 8660. 8660. 8660. 8660.\n",
      "    0.    0.    0.    0.    0.    0.    0.    0.    0.    0.    0.    0.\n",
      "    0.    0.    0.    0.    0.    0.    0.    0.    0.    0.    0.    0.\n",
      "    0.    0.    0.    0.    0.    0.    0.    0.    0.    0.    0.    0.\n",
      "    0.    0.    0.    0.    0.    0.    0.    0.    0.    0.    0.    0.\n",
      "    0.    0.    0.    0.    0.    0.    0.    0.    0.    0.    0.    0.\n",
      "    0.    0.    0.    0.    0.    0.    0.    0.    0.    0.    0.    0.]\n"
     ]
    }
   ],
   "source": [
    "print(idata)\n",
    "print(qdata)"
   ]
  }
 ],
 "metadata": {
  "kernelspec": {
   "display_name": ".venv",
   "language": "python",
   "name": "python3"
  },
  "language_info": {
   "codemirror_mode": {
    "name": "ipython",
    "version": 3
   },
   "file_extension": ".py",
   "mimetype": "text/x-python",
   "name": "python",
   "nbconvert_exporter": "python",
   "pygments_lexer": "ipython3",
   "version": "3.9.13"
  }
 },
 "nbformat": 4,
 "nbformat_minor": 2
}
