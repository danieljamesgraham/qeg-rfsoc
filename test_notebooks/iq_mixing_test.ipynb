{
 "cells": [
  {
   "cell_type": "code",
   "execution_count": 2,
   "metadata": {},
   "outputs": [
    {
     "name": "stdout",
     "output_type": "stream",
     "text": [
      "%pylab is deprecated, use %matplotlib inline and import the required libraries.\n",
      "Populating the interactive namespace from numpy and matplotlib\n",
      "\n",
      "QICK configuration:\n",
      "\n",
      "\tBoard: RFSoC4x2\n",
      "\n",
      "\tSoftware version: 0.2.267\n",
      "\tFirmware timestamp: Wed Sep  6 18:49:29 2023\n",
      "\n",
      "\tGlobal clocks (MHz): tProcessor 409.600, RF reference 491.520\n",
      "\n",
      "\t2 signal generator channels:\n",
      "\t0:\taxis_signal_gen_v6 - envelope memory 65536 samples (6.667 us)\n",
      "\t\tfs=9830.400 MHz, fabric=614.400 MHz, 32-bit DDS, range=9830.400 MHz\n",
      "\t\tDAC tile 0, blk 0 is DAC_B\n",
      "\t1:\taxis_signal_gen_v6 - envelope memory 65536 samples (6.667 us)\n",
      "\t\tfs=9830.400 MHz, fabric=614.400 MHz, 32-bit DDS, range=9830.400 MHz\n",
      "\t\tDAC tile 2, blk 0 is DAC_A\n",
      "\n",
      "\t2 readout channels:\n",
      "\t0:\taxis_readout_v2 - configured by PYNQ\n",
      "\t\tfs=4423.680 MHz, decimated=552.960 MHz, 32-bit DDS, range=4423.680 MHz\n",
      "\t\tmaxlen 16384 accumulated, 1024 decimated (1.852 us)\n",
      "\t\ttriggered by output 7, pin 14, feedback to tProc input 0\n",
      "\t\tADC tile 0, blk 0 is ADC_D\n",
      "\t1:\taxis_readout_v2 - configured by PYNQ\n",
      "\t\tfs=4423.680 MHz, decimated=552.960 MHz, 32-bit DDS, range=4423.680 MHz\n",
      "\t\tmaxlen 16384 accumulated, 1024 decimated (1.852 us)\n",
      "\t\ttriggered by output 7, pin 15, feedback to tProc input 1\n",
      "\t\tADC tile 0, blk 1 is ADC_C\n",
      "\n",
      "\t8 digital output pins:\n",
      "\t0:\tPMOD0_0\n",
      "\t1:\tPMOD0_1\n",
      "\t2:\tPMOD0_2\n",
      "\t3:\tPMOD0_3\n",
      "\t4:\tPMOD0_4\n",
      "\t5:\tPMOD0_5\n",
      "\t6:\tPMOD0_6\n",
      "\t7:\tPMOD0_7\n",
      "\n",
      "\ttProc axis_tproc64x32_x8 (\"v1\") rev 4: program memory 1024 words, data memory 1024 words\n",
      "\t\texternal start pin: PMOD1_0\n",
      "\n",
      "\tDDR4 memory buffer: 1073741824 samples (1.942 sec), 256 samples/transfer\n",
      "\t\twired to readouts [0, 1]\n",
      "\n",
      "\tMR buffer: 8192 samples (1.852 us), wired to readouts [0, 1]\n"
     ]
    }
   ],
   "source": [
    "# Import libraries\n",
    "%load_ext autoreload\n",
    "%autoreload 2\n",
    "\n",
    "from pulse_lib.pickle_parse import *\n",
    "from pulse_lib.phase_calibration import *\n",
    "\n",
    "from qick import *\n",
    "import Pyro4\n",
    "%pylab inline\n",
    "\n",
    "# Pyro communicates with board\n",
    "Pyro4.config.SERIALIZER = \"pickle\"\n",
    "Pyro4.config.PICKLE_PROTOCOL_VERSION=4\n",
    "\n",
    "# Static IP proxy\n",
    "ns_host = \"192.168.2.99\"\n",
    "ns_port = 8888\n",
    "proxy_name = \"myqick\"\n",
    "\n",
    "# QICK object\n",
    "ns = Pyro4.locateNS(host=ns_host, port=ns_port)\n",
    "soc = Pyro4.Proxy(ns.lookup(proxy_name))\n",
    "soccfg = QickConfig(soc.get_cfg())\n",
    "print(soccfg)"
   ]
  },
  {
   "cell_type": "code",
   "execution_count": 456,
   "metadata": {},
   "outputs": [
    {
     "name": "stdout",
     "output_type": "stream",
     "text": [
      "----- DAC A -----\n",
      "ch_type: DAC\n",
      "ch_index: 1\n",
      "delay: 0\n",
      "gain: 32767\n",
      "lengths: [100.0]\n",
      "times: [0.0]\n",
      "amps: [1.0]\n",
      "freqs: [3000.0]\n",
      "phases: [0]\n",
      "num_pulses: 1\n",
      "duration: 100.0\n",
      "----- DAC B -----\n",
      "ch_type: DAC\n",
      "ch_index: 0\n",
      "delay: 0\n",
      "gain: 32767\n",
      "lengths: [100.0]\n",
      "times: [0.0]\n",
      "amps: [1.0]\n",
      "freqs: [3000.0]\n",
      "phases: [90]\n",
      "num_pulses: 1\n",
      "duration: 100.0\n",
      "----- DIG 0 ------\n",
      "ch_type: DIG\n",
      "ch_index: 0\n",
      "delay: 0\n",
      "lengths: [10.0, 50.0]\n",
      "times: [40.0, 50.0]\n",
      "num_pulses: 2\n",
      "duration: 100.0\n",
      "----- End time: 100.0 -----\n"
     ]
    }
   ],
   "source": [
    "seq = {}\n",
    "seq[\"i\"] = [(100000, 1.0, 3, 0)]\n",
    "seq[\"q\"] = [(100000, 1.0, 3, 90)]\n",
    "seq[\"dig\"] = [(40000, 0), (10000, 1), (50000, 1)]\n",
    "\n",
    "# Gain and delay defaults are specified - not necessary to assign individually\n",
    "# Multiplicative gain for DAC amplitudes\n",
    "gains = {\"DAC_A\": 32767,\n",
    "         \"DAC_B\": 32767\n",
    "         }\n",
    "\n",
    "# Channel trigger delays for synchronisation\n",
    "delays = {\"DAC_A\": 0,\n",
    "          \"DAC_B\": 0,\n",
    "          }\n",
    "\n",
    "# Method 1: use if keys don't match channel names\n",
    "ch_map={\"DAC_A\": \"i\",\n",
    "        \"DAC_B\": \"q\",\n",
    "        \"DIG_0\": \"dig\"\n",
    "        }\n",
    "\n",
    "pulse_sequences = PickleParse(seq,\n",
    "                              ch_map=ch_map,\n",
    "                              gains=gains,\n",
    "                              delays=delays\n",
    "                              )"
   ]
  },
  {
   "cell_type": "code",
   "execution_count": 457,
   "metadata": {},
   "outputs": [],
   "source": [
    "res = []\n",
    "config = {\"reps\": 1}\n",
    "dac_freqs = sorted(list(set(pulse_sequences.ch_cfg[\"DAC_A\"][\"freqs\"] + pulse_sequences.ch_cfg[\"DAC_B\"][\"freqs\"])))\n",
    "\n",
    "for freq in dac_freqs:\n",
    "    config['pulse_freq'] = freq\n",
    "    prog = CalibratePhase(soccfg, config)\n",
    "    data = prog.acquire_decimated(soc, progress=False)\n",
    "    res.append([prog.calculate_phase(d) for d in data])\n",
    "    soc.reset_gens()"
   ]
  },
  {
   "cell_type": "code",
   "execution_count": 458,
   "metadata": {},
   "outputs": [
    {
     "data": {
      "image/png": "[encoded data removed]",
      "text/plain": [
       "<Figure size 640x480 with 1 Axes>"
      ]
     },
     "metadata": {},
     "output_type": "display_data"
    }
   ],
   "source": [
    "# FIXME: Don't like how this is relying on the order of the lists to work\n",
    "\n",
    "DELAY = 0 # Change this to compensate for mismatched cable lengths etc.\n",
    "\n",
    "# delta_phis = {}\n",
    "delta_phi = {3000: 0}\n",
    "\n",
    "for i in range(len(dac_freqs)):\n",
    "    # phase_delay = 360 * dac_freqs[i] * DELAY\n",
    "    delta_phis[dac_freqs[i]] = [((res[i][0][0] - res[i][1][0]) % 360), 0] \n",
    "\n",
    "x,y = [], []\n",
    "for key, value in delta_phis.items():\n",
    "    # print(f\"{key}: {value[0]}\")\n",
    "    x.append(key)\n",
    "    y.append(value[0])\n",
    "\n",
    "plt.plot(x,y, marker=\"s\")\n",
    "plt.xlabel(\"Frequency [MHz]\")\n",
    "plt.ylabel(\"Phase offset [deg]\")\n",
    "plt.title(\"Phase offset between DAC_A and DAC_B\");"
   ]
  },
  {
   "cell_type": "code",
   "execution_count": 459,
   "metadata": {},
   "outputs": [],
   "source": [
    "# Create program object\n",
    "prog = QickProgram(soccfg)\n",
    "\n",
    "# Method 1 - Run, specifying number of repetitions\n",
    "pulse_sequences.generate_asm(prog, delta_phis, reps=10000000)\n",
    "\n",
    "# Method 2 - Run with no repetitions\n",
    "# raman_cooling.generate_asm(prog, gain=10000)"
   ]
  },
  {
   "cell_type": "markdown",
   "metadata": {},
   "source": [
    "## Run program and print QICK assembly"
   ]
  },
  {
   "cell_type": "code",
   "execution_count": 460,
   "metadata": {},
   "outputs": [],
   "source": [
    "# Load assembly to board\n",
    "prog.config_all(soc)\n",
    "\n",
    "# Run program\n",
    "soc.tproc.start() \n",
    "\n",
    "# Useful for debugging synchronisation issues\n",
    "# print(prog)"
   ]
  }
 ],
 "metadata": {
  "kernelspec": {
   "display_name": ".qick_venv",
   "language": "python",
   "name": "python3"
  },
  "language_info": {
   "codemirror_mode": {
    "name": "ipython",
    "version": 3
   },
   "file_extension": ".py",
   "mimetype": "text/x-python",
   "name": "python",
   "nbconvert_exporter": "python",
   "pygments_lexer": "ipython3",
   "version": "3.9.6"
  }
 },
 "nbformat": 4,
 "nbformat_minor": 2
}
