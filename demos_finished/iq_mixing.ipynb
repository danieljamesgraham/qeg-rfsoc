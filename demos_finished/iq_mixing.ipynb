{
 "cells": [
  {
   "cell_type": "markdown",
   "metadata": {},
   "source": [
    "# RFSoC IQ Mixing\n",
    "\n",
    "This notebook produces DAC pulses that are 90 degrees phase shifted for use with an external IQ mixer. DAC_A is channel I and DAC_B is channel Q. DAC_A therefore leads DAC_B by 90 degrees."
   ]
  },
  {
   "cell_type": "code",
   "execution_count": 3,
   "metadata": {},
   "outputs": [
    {
     "name": "stdout",
     "output_type": "stream",
     "text": [
      "The autoreload extension is already loaded. To reload it, use:\n",
      "  %reload_ext autoreload\n",
      "%pylab is deprecated, use %matplotlib inline and import the required libraries.\n",
      "Populating the interactive namespace from numpy and matplotlib\n"
     ]
    }
   ],
   "source": [
    "# Import libraries\n",
    "%load_ext autoreload\n",
    "%autoreload 2\n",
    "\n",
    "import sys\n",
    "sys.path.append('../rfsoc_lib')\n",
    "from rfsoc_calibration import RfsocCalibration\n",
    "from rfsoc_pulses import RfsocPulses\n",
    "\n",
    "import pickle\n",
    "%pylab inline"
   ]
  },
  {
   "cell_type": "code",
   "execution_count": 4,
   "metadata": {},
   "outputs": [
    {
     "name": "stdout",
     "output_type": "stream",
     "text": [
      "\n",
      "QICK configuration:\n",
      "\n",
      "\tBoard: RFSoC4x2\n",
      "\n",
      "\tSoftware version: 0.2.267\n",
      "\tFirmware timestamp: Wed Sep  6 18:49:29 2023\n",
      "\n",
      "\tGlobal clocks (MHz): tProcessor 409.600, RF reference 491.520\n",
      "\n",
      "\t2 signal generator channels:\n",
      "\t0:\taxis_signal_gen_v6 - envelope memory 65536 samples (6.667 us)\n",
      "\t\tfs=9830.400 MHz, fabric=614.400 MHz, 32-bit DDS, range=9830.400 MHz\n",
      "\t\tDAC tile 0, blk 0 is DAC_B\n",
      "\t1:\taxis_signal_gen_v6 - envelope memory 65536 samples (6.667 us)\n",
      "\t\tfs=9830.400 MHz, fabric=614.400 MHz, 32-bit DDS, range=9830.400 MHz\n",
      "\t\tDAC tile 2, blk 0 is DAC_A\n",
      "\n",
      "\t2 readout channels:\n",
      "\t0:\taxis_readout_v2 - configured by PYNQ\n",
      "\t\tfs=4423.680 MHz, decimated=552.960 MHz, 32-bit DDS, range=4423.680 MHz\n",
      "\t\tmaxlen 16384 accumulated, 1024 decimated (1.852 us)\n",
      "\t\ttriggered by output 7, pin 14, feedback to tProc input 0\n",
      "\t\tADC tile 0, blk 0 is ADC_D\n",
      "\t1:\taxis_readout_v2 - configured by PYNQ\n",
      "\t\tfs=4423.680 MHz, decimated=552.960 MHz, 32-bit DDS, range=4423.680 MHz\n",
      "\t\tmaxlen 16384 accumulated, 1024 decimated (1.852 us)\n",
      "\t\ttriggered by output 7, pin 15, feedback to tProc input 1\n",
      "\t\tADC tile 0, blk 1 is ADC_C\n",
      "\n",
      "\t8 digital output pins:\n",
      "\t0:\tPMOD0_0\n",
      "\t1:\tPMOD0_1\n",
      "\t2:\tPMOD0_2\n",
      "\t3:\tPMOD0_3\n",
      "\t4:\tPMOD0_4\n",
      "\t5:\tPMOD0_5\n",
      "\t6:\tPMOD0_6\n",
      "\t7:\tPMOD0_7\n",
      "\n",
      "\ttProc axis_tproc64x32_x8 (\"v1\") rev 4: program memory 1024 words, data memory 1024 words\n",
      "\t\texternal start pin: PMOD1_0\n",
      "\n",
      "\tDDR4 memory buffer: 1073741824 samples (1.942 sec), 256 samples/transfer\n",
      "\t\twired to readouts [0, 1]\n",
      "\n",
      "\tMR buffer: 8192 samples (1.852 us), wired to readouts [0, 1]\n"
     ]
    }
   ],
   "source": [
    "# Board libraries\n",
    "from qick import *\n",
    "import Pyro4\n",
    "\n",
    "# Pyro communicates with board\n",
    "Pyro4.config.SERIALIZER = \"pickle\"\n",
    "Pyro4.config.PICKLE_PROTOCOL_VERSION=4\n",
    "\n",
    "# Static IP proxy\n",
    "ns_host = \"172.24.106.21\" # <-- SET IP ADDRESS\n",
    "ns_port = 8888\n",
    "proxy_name = \"myqick\"\n",
    "\n",
    "# QICK object\n",
    "ns = Pyro4.locateNS(host=ns_host, port=ns_port)\n",
    "soc = Pyro4.Proxy(ns.lookup(proxy_name))\n",
    "soccfg = QickConfig(soc.get_cfg())\n",
    "print(soccfg)"
   ]
  },
  {
   "cell_type": "code",
   "execution_count": 5,
   "metadata": {},
   "outputs": [],
   "source": [
    "# Test pulse sequence\n",
    "imported_sequences = {\"MW\": [(5000, 1.0, 0.1, 0)]}"
   ]
  },
  {
   "cell_type": "code",
   "execution_count": 6,
   "metadata": {},
   "outputs": [
    {
     "name": "stdout",
     "output_type": "stream",
     "text": [
      "----- DAC A -----\n",
      "ch_type: DAC\n",
      "ch_index: 1\n",
      "delay: 0\n",
      "gain: 10000\n",
      "lengths: [5.0]\n",
      "times: [0.0]\n",
      "amps: [1.0]\n",
      "freqs: [100.0]\n",
      "phases: [0.0]\n",
      "num_pulses: 1\n",
      "duration: 5.0\n",
      "----- DAC B -----\n",
      "ch_type: DAC\n",
      "ch_index: 0\n",
      "delay: 0\n",
      "gain: 10000\n",
      "lengths: [5.0]\n",
      "times: [0.0]\n",
      "amps: [1.0]\n",
      "freqs: [100.0]\n",
      "phases: [-90.0]\n",
      "num_pulses: 1\n",
      "duration: 5.0\n",
      "----- End time: 5.0 -----\n"
     ]
    }
   ],
   "source": [
    "dac_delay = 0\n",
    "dac_gain = 10000\n",
    "\n",
    "# Assign imported pulse sequence to DAC_A and DAC_B, setting gain and delays\n",
    "pulses = RfsocPulses(imported_sequences,\n",
    "                              ch_map = {\"DAC_A\":\"MW\", \"DAC_B\":\"MW\"},\n",
    "                              delays = {\"DAC_A\":dac_delay, \"DAC_B\":dac_delay},\n",
    "                              gains  = {\"DAC_A\":dac_gain, \"DAC_B\":dac_gain},\n",
    "                              iq_mix = True,\n",
    "                              )"
   ]
  },
  {
   "cell_type": "code",
   "execution_count": 8,
   "metadata": {},
   "outputs": [],
   "source": [
    "# Import phase calibration data\n",
    "with open('../pickles/calibrate_phase.pickle', 'rb') as handle:\n",
    "    dac_phis = pickle.load(handle)\n",
    "calibration = RfsocCalibration(dac_phis)"
   ]
  },
  {
   "cell_type": "code",
   "execution_count": 19,
   "metadata": {},
   "outputs": [
    {
     "name": "stdout",
     "output_type": "stream",
     "text": [
      "\n",
      "// Program\n",
      "\n",
      "        synci 200;\n",
      "        regwi 0, $14, 0;\n",
      "LOOP_I: regwi 1, $22, 43690667;                 //freq = 43690667\n",
      "        regwi 1, $23, 0;                        //phase = 0\n",
      "        regwi 1, $25, 10000;                    //gain = 10000\n",
      "        regwi 1, $26, 592896;                   //phrst| stdysel | mode | | outsel = 0b01001 | length = 3072 \n",
      "        regwi 1, $27, 0;                        //t = 0\n",
      "        set 1, 1, $22, $23, $0, $25, $26, $27;  //ch = 1, pulse @t = $27\n",
      "        regwi 0, $22, 43690667;                 //freq = 43690667\n",
      "        regwi 0, $23, 908379756;                //phase = 3633519027\n",
      "        bitwi 0, $23, $23 << 2;\n",
      "        mathi 0, $23, $23 + 3;\n",
      "        regwi 0, $25, 10000;                    //gain = 10000\n",
      "        regwi 0, $26, 592896;                   //phrst| stdysel | mode | | outsel = 0b01001 | length = 3072 \n",
      "        regwi 0, $27, 0;                        //t = 0\n",
      "        set 0, 0, $22, $23, $0, $25, $26, $27;  //ch = 0, pulse @t = $27\n",
      "        waiti 0, 0;\n",
      "        synci 2048;\n",
      "        loopnz 0, $14, @LOOP_I;\n",
      "        end ;\n"
     ]
    }
   ],
   "source": [
    "# Program RFSoC with pulse sequence\n",
    "prog = QickProgram(soccfg)\n",
    "pulses.generate_asm(prog, dac_phis, reps=1)\n",
    "pulses.config_internal_start(soc, prog)\n",
    "soc.tproc.start()\n",
    "print(prog)"
   ]
  },
  {
   "cell_type": "code",
   "execution_count": null,
   "metadata": {},
   "outputs": [],
   "source": [
    "# Simple implementation where DACs continuously output a fixed frequency\n",
    "\n",
    "# # Config parameters\n",
    "# freq = 100\n",
    "# phases = [-90, 0]\n",
    "# gain = 10000\n",
    "\n",
    "# # Program DAC registers\n",
    "# prog = QickProgram(soccfg)\n",
    "# soc.reset_gens()\n",
    "# for ch in range(2):\n",
    "#     prog.declare_gen(ch=ch, nqz=1)\n",
    "#     prog.set_pulse_registers(ch = ch,\n",
    "#                              gain = gain,\n",
    "#                              freq = prog.freq2reg(freq, gen_ch=ch),\n",
    "#                              phase = prog.deg2reg(phases[ch]+calibration.phase(freq, ch), gen_ch=ch),\n",
    "#                              style = \"const\",\n",
    "#                              length = prog.us2cycles(100, gen_ch=ch),\n",
    "#                              mode = \"periodic\",\n",
    "#                             )\n",
    "#     prog.pulse(ch=ch, t=0)\n",
    "\n",
    "# # Start DACs\n",
    "# prog.config_all(soc)\n",
    "# soc.tproc.start()"
   ]
  },
  {
   "cell_type": "code",
   "execution_count": null,
   "metadata": {},
   "outputs": [],
   "source": [
    "# Stop DACs from generating waveforms\n",
    "soc.reset_gens()"
   ]
  }
 ],
 "metadata": {
  "kernelspec": {
   "display_name": ".venv",
   "language": "python",
   "name": "python3"
  },
  "language_info": {
   "codemirror_mode": {
    "name": "ipython",
    "version": 3
   },
   "file_extension": ".py",
   "mimetype": "text/x-python",
   "name": "python",
   "nbconvert_exporter": "python",
   "pygments_lexer": "ipython3",
   "version": "3.9.13"
  }
 },
 "nbformat": 4,
 "nbformat_minor": 2
}
