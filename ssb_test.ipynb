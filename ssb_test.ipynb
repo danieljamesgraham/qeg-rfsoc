{
 "cells": [
  {
   "cell_type": "code",
   "execution_count": null,
   "metadata": {},
   "outputs": [],
   "source": [
    "# Import libraries\n",
    "%load_ext autoreload\n",
    "%autoreload 2\n",
    "\n",
    "from pulse_lib.interpolate_phase import interpolate_phase\n",
    "\n",
    "from qick import *\n",
    "import Pyro4\n",
    "import pickle\n",
    "%pylab inline\n",
    "\n",
    "# Pyro communicates with board\n",
    "Pyro4.config.SERIALIZER = \"pickle\"\n",
    "Pyro4.config.PICKLE_PROTOCOL_VERSION=4\n",
    "\n",
    "# Static IP proxy\n",
    "ns_host = \"192.168.2.99\"\n",
    "ns_port = 8888\n",
    "proxy_name = \"myqick\"\n",
    "\n",
    "# QICK object\n",
    "ns = Pyro4.locateNS(host=ns_host, port=ns_port)\n",
    "soc = Pyro4.Proxy(ns.lookup(proxy_name))\n",
    "soccfg = QickConfig(soc.get_cfg())\n",
    "print(soccfg)"
   ]
  },
  {
   "cell_type": "code",
   "execution_count": null,
   "metadata": {},
   "outputs": [],
   "source": [
    "# Import phase calibration data\n",
    "with open('pickles/calibrate_phase.pickle', 'rb') as handle:\n",
    "    delta_phis = pickle.load(handle)\n",
    "\n",
    "# Import SSB parameters\n",
    "with open('pickles/ssb_params.pickle', 'rb') as handle:\n",
    "    ssb_params = pickle.load(handle)"
   ]
  },
  {
   "cell_type": "code",
   "execution_count": null,
   "metadata": {},
   "outputs": [],
   "source": [
    "# Config parameters\n",
    "freq = 1010\n",
    "phases = [ssb_params[freq][0], 0]\n",
    "gains = [10000, ssb_params[freq][1]]\n",
    "\n",
    "# Program DAC registers\n",
    "prog = QickProgram(soccfg)\n",
    "soc.reset_gens()\n",
    "for ch in range(2):\n",
    "    prog.declare_gen(ch=ch, nqz=1)\n",
    "    prog.set_pulse_registers(ch = ch,\n",
    "                             gain = gains[ch],\n",
    "                             freq = prog.freq2reg(freq, gen_ch=ch),\n",
    "                             phase = prog.deg2reg(phases[ch]+interpolate_phase(freq, delta_phis)[ch], gen_ch=ch),\n",
    "                             style = \"const\",\n",
    "                             length = prog.us2cycles(100, gen_ch=ch),\n",
    "                             mode = \"periodic\",\n",
    "                            )\n",
    "    prog.pulse(ch=ch, t=0)\n",
    "\n",
    "# Start DACs\n",
    "prog.config_all(soc)\n",
    "soc.tproc.start()"
   ]
  },
  {
   "cell_type": "code",
   "execution_count": null,
   "metadata": {},
   "outputs": [],
   "source": [
    "# Stop DACs from generating waveforms\n",
    "soc.reset_gens()"
   ]
  }
 ],
 "metadata": {
  "kernelspec": {
   "display_name": ".venv",
   "language": "python",
   "name": "python3"
  },
  "language_info": {
   "codemirror_mode": {
    "name": "ipython",
    "version": 3
   },
   "file_extension": ".py",
   "mimetype": "text/x-python",
   "name": "python",
   "nbconvert_exporter": "python",
   "pygments_lexer": "ipython3",
   "version": "3.9.13"
  }
 },
 "nbformat": 4,
 "nbformat_minor": 2
}
