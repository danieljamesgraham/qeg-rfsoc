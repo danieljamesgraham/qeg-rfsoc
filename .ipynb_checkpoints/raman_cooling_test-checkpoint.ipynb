{
 "cells": [
  {
   "cell_type": "code",
   "execution_count": 17,
   "metadata": {},
   "outputs": [
    {
     "name": "stdout",
     "output_type": "stream",
     "text": [
      "The autoreload extension is already loaded. To reload it, use:\n",
      "  %reload_ext autoreload\n",
      "%pylab is deprecated, use %matplotlib inline and import the required libraries.\n",
      "Populating the interactive namespace from numpy and matplotlib\n"
     ]
    }
   ],
   "source": [
    "# Import libraries\n",
    "%load_ext autoreload\n",
    "%autoreload 2\n",
    "\n",
    "import sys\n",
    "sys.path.append('rfsoc_lib')\n",
    "from rfsoc_calibration import RfsocCalibration\n",
    "from rfsoc_pulses import RfsocPulses\n",
    "from rfsoc_arb_pulses import RfsocArbPulses\n",
    "\n",
    "import rpyc\n",
    "config = {\"allow_public_attrs\": True, \"allow_all_attrs\": True,\"allow_setattr\":True, \"allow_delattr\": True, \"allow_pickle\":True,\"sync_request_timeout\": 20}\n",
    "experiment = rpyc.connect(\"localhost\", port=12346, config=config).root\n",
    "import dill\n",
    "obtain = lambda obj: dill.loads(dill.dumps(obj)) # Do obtain(obj) to transfer obj from the server to here\n",
    "\n",
    "import pickle\n",
    "import bisect\n",
    "%pylab inline"
   ]
  },
  {
   "cell_type": "markdown",
   "metadata": {},
   "source": [
    "# Device Configuration"
   ]
  },
  {
   "cell_type": "code",
   "execution_count": 55,
   "metadata": {},
   "outputs": [],
   "source": [
    "ps = experiment.get_device('PulseStreamer')\n",
    "counter = experiment.get_device('Counter')"
   ]
  },
  {
   "cell_type": "code",
   "execution_count": 56,
   "metadata": {},
   "outputs": [
    {
     "name": "stdout",
     "output_type": "stream",
     "text": [
      "\n",
      "QICK configuration:\n",
      "\n",
      "\tBoard: RFSoC4x2\n",
      "\n",
      "\tSoftware version: 0.2.267\n",
      "\tFirmware timestamp: Wed Sep  6 18:49:29 2023\n",
      "\n",
      "\tGlobal clocks (MHz): tProcessor 409.600, RF reference 491.520\n",
      "\n",
      "\t2 signal generator channels:\n",
      "\t0:\taxis_signal_gen_v6 - envelope memory 65536 samples (6.667 us)\n",
      "\t\tfs=9830.400 MHz, fabric=614.400 MHz, 32-bit DDS, range=9830.400 MHz\n",
      "\t\tDAC tile 0, blk 0 is DAC_B\n",
      "\t1:\taxis_signal_gen_v6 - envelope memory 65536 samples (6.667 us)\n",
      "\t\tfs=9830.400 MHz, fabric=614.400 MHz, 32-bit DDS, range=9830.400 MHz\n",
      "\t\tDAC tile 2, blk 0 is DAC_A\n",
      "\n",
      "\t2 readout channels:\n",
      "\t0:\taxis_readout_v2 - configured by PYNQ\n",
      "\t\tfs=4423.680 MHz, decimated=552.960 MHz, 32-bit DDS, range=4423.680 MHz\n",
      "\t\tmaxlen 16384 accumulated, 1024 decimated (1.852 us)\n",
      "\t\ttriggered by output 7, pin 14, feedback to tProc input 0\n",
      "\t\tADC tile 0, blk 0 is ADC_D\n",
      "\t1:\taxis_readout_v2 - configured by PYNQ\n",
      "\t\tfs=4423.680 MHz, decimated=552.960 MHz, 32-bit DDS, range=4423.680 MHz\n",
      "\t\tmaxlen 16384 accumulated, 1024 decimated (1.852 us)\n",
      "\t\ttriggered by output 7, pin 15, feedback to tProc input 1\n",
      "\t\tADC tile 0, blk 1 is ADC_C\n",
      "\n",
      "\t8 digital output pins:\n",
      "\t0:\tPMOD0_0\n",
      "\t1:\tPMOD0_1\n",
      "\t2:\tPMOD0_2\n",
      "\t3:\tPMOD0_3\n",
      "\t4:\tPMOD0_4\n",
      "\t5:\tPMOD0_5\n",
      "\t6:\tPMOD0_6\n",
      "\t7:\tPMOD0_7\n",
      "\n",
      "\ttProc axis_tproc64x32_x8 (\"v1\") rev 4: program memory 1024 words, data memory 1024 words\n",
      "\t\texternal start pin: PMOD1_0\n",
      "\n",
      "\tDDR4 memory buffer: 1073741824 samples (1.942 sec), 256 samples/transfer\n",
      "\t\twired to readouts [0, 1]\n",
      "\n",
      "\tMR buffer: 8192 samples (1.852 us), wired to readouts [0, 1]\n"
     ]
    }
   ],
   "source": [
    "# Board libraries\n",
    "from qick import *\n",
    "import Pyro4\n",
    "\n",
    "# Pyro communicates with board\n",
    "Pyro4.config.SERIALIZER = \"pickle\"\n",
    "Pyro4.config.PICKLE_PROTOCOL_VERSION=4\n",
    "\n",
    "# Static IP proxy\n",
    "ns_host = \"172.24.106.21\" # <-- SET IP ADDRESS\n",
    "ns_port = 8888\n",
    "proxy_name = \"myqick\"\n",
    "\n",
    "# QICK object\n",
    "ns = Pyro4.locateNS(host=ns_host, port=ns_port)\n",
    "soc = Pyro4.Proxy(ns.lookup(proxy_name))\n",
    "soccfg = QickConfig(soc.get_cfg())\n",
    "print(soccfg)"
   ]
  },
  {
   "cell_type": "code",
   "execution_count": 57,
   "metadata": {},
   "outputs": [],
   "source": [
    "with open('pickles/const_power.pickle', 'rb') as handle:\n",
    "    const_power = pickle.load(handle)"
   ]
  },
  {
   "cell_type": "code",
   "execution_count": 58,
   "metadata": {},
   "outputs": [
    {
     "name": "stdout",
     "output_type": "stream",
     "text": [
      "\n",
      "---------- DAC A ----------\n",
      "CONFIG\n",
      "\tch_type: DAC\n",
      "\tch_index: 1\n",
      "\tdelay: 0\n",
      "\tnum_pulses: 2\n",
      "\tduration: 41.034\n",
      "PULSES\n",
      "\tlengths: [37.0, 0.034]\n",
      "\ttimes: [0.0, 39.0]\n",
      "\tamps: [1.0, None]\n",
      "\tgains: [7849, 15698]\n",
      "\tfreqs: [3000.0, 3000.0]\n",
      "\tphases: [0.0, None]\n",
      "\tstyles: ['const', 'arb']\n",
      "\toutsels: [None, 'product']\n",
      "\n",
      "END TIME: 41.034\n"
     ]
    }
   ],
   "source": [
    "raman_cooling = (37000, 1.0, 3.0, 0)\n",
    "initialisation = (2000, 0)\n",
    "pi_half_zero_phase = (17, 1.0, 3.0, 0)\n",
    "wait_time = (0, 0)\n",
    "pi_half_vary_phase = (17, 1.0, 3.0, 180)\n",
    "readout = (2000, 0)\n",
    "\n",
    "pi_half_seq = RfsocArbPulses(soccfg,\n",
    "                             [pi_half_zero_phase, wait_time, pi_half_vary_phase],\n",
    "                             outsel='product',\n",
    "                             )#arb\n",
    "\n",
    "\n",
    "sequences = {'DAC_A': [raman_cooling, initialisation, pi_half_seq, readout]}\n",
    "\n",
    "# cw_seq = RfsocArbPulses(soccfg, [(1000, 1.0, 3.0, 0)], outsel='product')\n",
    "# sequences = {'DAC_A':[cw_seq,]}\n",
    "\n",
    "pulses = RfsocPulses(sequences,\n",
    "                     const_power=const_power,\n",
    "                     scale_power=1,\n",
    "                     print_params=True\n",
    "                     )\n",
    "seq_length =  int(pulses.get_end_time()*1e3)\n",
    "\n",
    "seq = ps.device.createSequence() # create new sequence\n",
    "seq.setDigital(1,[(10, 1), (int(seq_length-10), 1)])\n",
    "seq.setDigital(1,[(10, 1), (int(seq_length-10), 1)])\n",
    "seq.setDigital(6, [(10, 1), (int(seq_length-10), 0)]) # trigger the time tagger\n",
    "seq.setDigital(2, [(10, 1), (int(seq_length-10), 0)]) # triggger the AWG/RFSoc\n",
    "ps.play_seq(seq) # s"
   ]
  },
  {
   "cell_type": "code",
   "execution_count": 59,
   "metadata": {},
   "outputs": [
    {
     "data": {
      "text/plain": [
       "41034"
      ]
     },
     "execution_count": 59,
     "metadata": {},
     "output_type": "execute_result"
    }
   ],
   "source": [
    "seq_length"
   ]
  },
  {
   "cell_type": "code",
   "execution_count": 60,
   "metadata": {},
   "outputs": [
    {
     "name": "stdout",
     "output_type": "stream",
     "text": [
      "\n",
      "// Program\n",
      "\n",
      "        synci 200;\n",
      "        regwi 0, $14, 0;\n",
      "LOOP_I: regwi 1, $22, 327680000;                //freq = 1310720000\n",
      "        bitwi 1, $22, $22 << 2;\n",
      "        regwi 1, $23, 0;                        //phase = 0\n",
      "        regwi 1, $25, 7849;                     //gain = 7849\n",
      "        regwi 1, $26, 612557;                   //phrst| stdysel | mode | | outsel = 0b01001 | length = 22733 \n",
      "        regwi 1, $27, 0;                        //t = 0\n",
      "        set 1, 1, $22, $23, $0, $25, $26, $27;  //ch = 1, pulse @t = $27\n",
      "        regwi 1, $22, 327680000;                //freq = 1310720000\n",
      "        bitwi 1, $22, $22 << 2;\n",
      "        regwi 1, $23, 0;                        //phase = 0\n",
      "        regwi 1, $25, 15698;                    //gain = 15698\n",
      "        regwi 1, $24, 0;                        //addr = 0\n",
      "        regwi 1, $26, 524309;                   //phrst| stdysel | mode | | outsel = 0b01000 | length = 21 \n",
      "        regwi 1, $27, 15974;                    //t = 15974\n",
      "        set 1, 1, $22, $23, $24, $25, $26, $27; //ch = 1, pulse @t = $27\n",
      "        synci 16808;\n",
      "        loopnz 0, $14, @LOOP_I;\n",
      "        end ;\n"
     ]
    }
   ],
   "source": [
    "prog = QickProgram(soccfg)\n",
    "pulses.generate_asm(prog, reps=1)\n",
    "pulses.config_external_start(soc, prog)\n",
    "# pulses.config_internal_start(soc, prog)\n",
    "# soc.tproc.start() # Run program\n",
    "print(prog)"
   ]
  },
  {
   "cell_type": "markdown",
   "metadata": {},
   "source": [
    "# CW Only"
   ]
  },
  {
   "cell_type": "code",
   "execution_count": 64,
   "metadata": {},
   "outputs": [],
   "source": [
    "soc.reset_gens() # only fur cw"
   ]
  },
  {
   "cell_type": "code",
   "execution_count": 62,
   "metadata": {},
   "outputs": [
    {
     "name": "stdout",
     "output_type": "stream",
     "text": [
      "\n",
      "// Program\n",
      "\n",
      "  regwi 0, $22, 327680000;                      //freq = 1310720000\n",
      "  bitwi 0, $22, $22 << 2;\n",
      "  regwi 0, $23, 0;                              //phase = 0\n",
      "  regwi 0, $25, 15000;                          //gain = 15000\n",
      "  regwi 0, $26, 913408;                         //phrst| stdysel | mode | | outsel = 0b01101 | length = 61440 \n",
      "  regwi 0, $27, 0;                              //t = 0\n",
      "  set 0, 0, $22, $23, $0, $25, $26, $27;        //ch = 0, pulse @t = $27\n",
      "  regwi 1, $22, 327680000;                      //freq = 1310720000\n",
      "  bitwi 1, $22, $22 << 2;\n",
      "  regwi 1, $23, 0;                              //phase = 0\n",
      "  regwi 1, $25, 15000;                          //gain = 15000\n",
      "  regwi 1, $26, 913408;                         //phrst| stdysel | mode | | outsel = 0b01101 | length = 61440 \n",
      "  regwi 1, $27, 0;                              //t = 0\n",
      "  set 1, 1, $22, $23, $0, $25, $26, $27;        //ch = 1, pulse @t = $27\n"
     ]
    }
   ],
   "source": [
    "gain = 15000\n",
    "freq_Mhz = 3000\n",
    "phase_deg = 0\n",
    "\n",
    "prog = QickProgram(soccfg)\n",
    "soc.reset_gens()\n",
    "for ch in range(2):\n",
    "    prog.declare_gen(ch=ch, nqz=1)\n",
    "    prog.set_pulse_registers(ch = ch,\n",
    "                             gain = int(gain),\n",
    "                             freq = prog.freq2reg(freq_Mhz, gen_ch=ch),\n",
    "                             phase = prog.deg2reg(phase_deg, gen_ch=ch),\n",
    "                             style = \"const\",\n",
    "                             length = prog.us2cycles(100, gen_ch=ch),\n",
    "                             mode = \"periodic\", # Constant output\n",
    "                            )\n",
    "    prog.pulse(ch=ch, t=0) # Trigger DAC\n",
    "\n",
    "# Start DACs\n",
    "prog.config_all(soc) # Configure for internal start\n",
    "soc.tproc.start() # Internal start\n",
    "print(prog)"
   ]
  },
  {
   "cell_type": "code",
   "execution_count": 75,
   "metadata": {},
   "outputs": [
    {
     "data": {
      "image/png": "[encoded data removed]",
      "text/plain": [
       "<Figure size 640x480 with 1 Axes>"
      ]
     },
     "metadata": {},
     "output_type": "display_data"
    }
   ],
   "source": [
    "x = np.linspace(0, round(len(pi_half_seq.idata) * 1e3 / 9830.4, 2), len(pi_half_seq.idata))\n",
    "plt.plot(x, pi_half_seq.idata)\n",
    "plt.plot(x, pi_half_seq.qdata)\n",
    "plt.show()"
   ]
  }
 ],
 "metadata": {
  "kernelspec": {
   "display_name": "Python 3 (ipykernel)",
   "language": "python",
   "name": "python3"
  },
  "language_info": {
   "codemirror_mode": {
    "name": "ipython",
    "version": 3
   },
   "file_extension": ".py",
   "mimetype": "text/x-python",
   "name": "python",
   "nbconvert_exporter": "python",
   "pygments_lexer": "ipython3",
   "version": "3.11.5"
  }
 },
 "nbformat": 4,
 "nbformat_minor": 4
}
