{
 "cells": [
  {
   "cell_type": "markdown",
   "metadata": {},
   "source": [
    "# External Reference Clock Demonstration Notebook\n",
    "\n",
    "## Aims of Notebook\n",
    "\n",
    "- Utilise external 10 MHz oscillator as reference for board.\n",
    "\n",
    "## To Do\n",
    "\n",
    "- Make notebook"
   ]
  }
 ],
 "metadata": {
  "language_info": {
   "name": "python"
  }
 },
 "nbformat": 4,
 "nbformat_minor": 2
}
