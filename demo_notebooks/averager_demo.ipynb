{
 "cells": [
  {
   "cell_type": "markdown",
   "metadata": {},
   "source": [
    "# AveragerProgram Demonstration Notebook\n",
    "\n",
    "## Aims of Notebook\n",
    "\n",
    "- Demonstrate how the AveragerProgram class may be used\n",
    "\n",
    "## To Do\n",
    "\n",
    "- Everything"
   ]
  }
 ],
 "metadata": {
  "language_info": {
   "name": "python"
  }
 },
 "nbformat": 4,
 "nbformat_minor": 2
}
