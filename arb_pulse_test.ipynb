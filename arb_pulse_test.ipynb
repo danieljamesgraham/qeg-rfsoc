{
 "cells": [
  {
   "cell_type": "code",
   "execution_count": 1,
   "metadata": {},
   "outputs": [
    {
     "name": "stdout",
     "output_type": "stream",
     "text": [
      "%pylab is deprecated, use %matplotlib inline and import the required libraries.\n",
      "Populating the interactive namespace from numpy and matplotlib\n"
     ]
    }
   ],
   "source": [
    "# Import libraries\n",
    "%load_ext autoreload\n",
    "%autoreload 2\n",
    "\n",
    "import sys\n",
    "sys.path.append('rfsoc_lib')\n",
    "from rfsoc_calibration import RfsocCalibration\n",
    "from rfsoc_pulses import RfsocPulses\n",
    "\n",
    "import pickle\n",
    "%pylab inline"
   ]
  },
  {
   "cell_type": "code",
   "execution_count": 2,
   "metadata": {},
   "outputs": [
    {
     "name": "stdout",
     "output_type": "stream",
     "text": [
      "\n",
      "QICK configuration:\n",
      "\n",
      "\tBoard: RFSoC4x2\n",
      "\n",
      "\tSoftware version: 0.2.267\n",
      "\tFirmware timestamp: Wed Sep  6 18:49:29 2023\n",
      "\n",
      "\tGlobal clocks (MHz): tProcessor 409.600, RF reference 491.520\n",
      "\n",
      "\t2 signal generator channels:\n",
      "\t0:\taxis_signal_gen_v6 - envelope memory 65536 samples (6.667 us)\n",
      "\t\tfs=9830.400 MHz, fabric=614.400 MHz, 32-bit DDS, range=9830.400 MHz\n",
      "\t\tDAC tile 0, blk 0 is DAC_B\n",
      "\t1:\taxis_signal_gen_v6 - envelope memory 65536 samples (6.667 us)\n",
      "\t\tfs=9830.400 MHz, fabric=614.400 MHz, 32-bit DDS, range=9830.400 MHz\n",
      "\t\tDAC tile 2, blk 0 is DAC_A\n",
      "\n",
      "\t2 readout channels:\n",
      "\t0:\taxis_readout_v2 - configured by PYNQ\n",
      "\t\tfs=4423.680 MHz, decimated=552.960 MHz, 32-bit DDS, range=4423.680 MHz\n",
      "\t\tmaxlen 16384 accumulated, 1024 decimated (1.852 us)\n",
      "\t\ttriggered by output 7, pin 14, feedback to tProc input 0\n",
      "\t\tADC tile 0, blk 0 is ADC_D\n",
      "\t1:\taxis_readout_v2 - configured by PYNQ\n",
      "\t\tfs=4423.680 MHz, decimated=552.960 MHz, 32-bit DDS, range=4423.680 MHz\n",
      "\t\tmaxlen 16384 accumulated, 1024 decimated (1.852 us)\n",
      "\t\ttriggered by output 7, pin 15, feedback to tProc input 1\n",
      "\t\tADC tile 0, blk 1 is ADC_C\n",
      "\n",
      "\t8 digital output pins:\n",
      "\t0:\tPMOD0_0\n",
      "\t1:\tPMOD0_1\n",
      "\t2:\tPMOD0_2\n",
      "\t3:\tPMOD0_3\n",
      "\t4:\tPMOD0_4\n",
      "\t5:\tPMOD0_5\n",
      "\t6:\tPMOD0_6\n",
      "\t7:\tPMOD0_7\n",
      "\n",
      "\ttProc axis_tproc64x32_x8 (\"v1\") rev 4: program memory 1024 words, data memory 1024 words\n",
      "\t\texternal start pin: PMOD1_0\n",
      "\n",
      "\tDDR4 memory buffer: 1073741824 samples (1.942 sec), 256 samples/transfer\n",
      "\t\twired to readouts [0, 1]\n",
      "\n",
      "\tMR buffer: 8192 samples (1.852 us), wired to readouts [0, 1]\n"
     ]
    }
   ],
   "source": [
    "# Board libraries\n",
    "from qick import *\n",
    "import Pyro4\n",
    "\n",
    "# Pyro communicates with board\n",
    "Pyro4.config.SERIALIZER = \"pickle\"\n",
    "Pyro4.config.PICKLE_PROTOCOL_VERSION=4\n",
    "\n",
    "# Static IP proxy\n",
    "ns_host = \"172.24.106.21\" # <-- SET IP ADDRESS\n",
    "ns_port = 8888\n",
    "proxy_name = \"myqick\"\n",
    "\n",
    "# QICK object\n",
    "ns = Pyro4.locateNS(host=ns_host, port=ns_port)\n",
    "soc = Pyro4.Proxy(ns.lookup(proxy_name))\n",
    "soccfg = QickConfig(soc.get_cfg())\n",
    "print(soccfg)"
   ]
  },
  {
   "cell_type": "code",
   "execution_count": 3,
   "metadata": {},
   "outputs": [
    {
     "name": "stdout",
     "output_type": "stream",
     "text": [
      "{'MW': [(100, 0), (15000, 1, 0.1, 0), (500, 0), (50, 1, 0.1, 0), (500, 0), (50, 1, 0.11, 0), (500, 0), (50, 1, 0.12, 0), (500, 0), (50, 1, 0.13, 0), (500, 0), (50, 1, 0.13999999999999999, 0), (500, 0), (50, 1, 0.14999999999999997, 0), (500, 0), (50, 1, 0.15999999999999998, 0), (500, 0), (50, 1, 0.16999999999999998, 0), (500, 0), (50, 1, 0.17999999999999997, 0), (500, 0), (50, 1, 0.18999999999999995, 0), (500, 0), (50, 1, 0.19999999999999996, 0), (500, 0), (50, 1, 0.20999999999999996, 0), (500, 0)]}\n"
     ]
    }
   ],
   "source": [
    "# sequence = {\"MW\": []}\n",
    "\n",
    "# amp = 1 # [arb.]\n",
    "\n",
    "# # Relax\n",
    "# t_relax = 100 # [ns]\n",
    "\n",
    "# sequence[\"MW\"].append((t_relax, 0))\n",
    "\n",
    "# # Cooling\n",
    "# t_cool = 15000 # [ns]\n",
    "# f_cool = 0.1 # [GHz]\n",
    "# p_cool = 0 # [rad]\n",
    "\n",
    "# sequence[\"MW\"].append((t_cool, amp, f_cool, p_cool))\n",
    "\n",
    "# # Rabi\n",
    "# t_delay = 500 # [ns]\n",
    "# t_rabi = 50 # [ns]\n",
    "# f_rabi_start = 0.1 # [GHz]\n",
    "# f_rabi_end = 0.2 # [GHz]\n",
    "# f_rabi_step = 0.01 # [GHz]\n",
    "# p_rabi = 0 # [rad]\n",
    "\n",
    "# freqs_rabi = np.arange(f_rabi_start, f_rabi_end+f_rabi_step, f_rabi_step)\n",
    "\n",
    "# for f_rabi in freqs_rabi:\n",
    "#     sequence[\"MW\"].append((t_delay, 0))\n",
    "#     sequence[\"MW\"].append((t_rabi, amp, f_rabi, p_rabi))\n",
    "# sequence[\"MW\"].append((t_delay, 0))\n",
    "\n",
    "# print(sequence)"
   ]
  },
  {
   "cell_type": "code",
   "execution_count": 216,
   "metadata": {},
   "outputs": [],
   "source": [
    "sequence = {'MW': [(50, 0), (50, 1.0, 0.1, 0, \"arb\"), (50, 0), (50, 1.0, 0.1, 0, \"arb\"), (50, 0), (50, 1.0, 0.1, 0), (50, 0), (50, 1.0, 0.1, 0, \"arb\")]}"
   ]
  },
  {
   "cell_type": "code",
   "execution_count": 217,
   "metadata": {},
   "outputs": [
    {
     "name": "stdout",
     "output_type": "stream",
     "text": [
      "----- DAC A -----\n",
      "ch_type: DAC\n",
      "ch_index: 1\n",
      "delay: 0\n",
      "gain: 20000\n",
      "lengths: [0.05, 0.05, 0.05, 0.05]\n",
      "times: [0.05, 0.15, 0.25, 0.35]\n",
      "amps: [1.0, 1.0, 1.0, 1.0]\n",
      "freqs: [100.0, 100.0, 100.0, 100.0]\n",
      "phases: [0.0, 0.0, 0.0, 0.0]\n",
      "gen_method: ['a', 'a', 'c', 'a']\n",
      "num_pulses: 4\n",
      "duration: 0.4\n",
      "----- DAC B -----\n",
      "ch_type: DAC\n",
      "ch_index: 0\n",
      "delay: 0\n",
      "gain: 20000\n",
      "lengths: [0.05, 0.05, 0.05, 0.05]\n",
      "times: [0.05, 0.15, 0.25, 0.35]\n",
      "amps: [1.0, 1.0, 1.0, 1.0]\n",
      "freqs: [100.0, 100.0, 100.0, 100.0]\n",
      "phases: [0.0, 0.0, 0.0, 0.0]\n",
      "gen_method: ['a', 'a', 'c', 'a']\n",
      "num_pulses: 4\n",
      "duration: 0.4\n",
      "----- End time: 0.4 -----\n"
     ]
    }
   ],
   "source": [
    "# (OPTIONAL) Multiplicative gain for DAC amplitudes. Defaults to 10000.\n",
    "gains = {\"DAC_A\": 20000,\n",
    "         \"DAC_B\": 20000,\n",
    "         }\n",
    "\n",
    "# (OPTIONAL) Channel trigger delays for synchronisation\n",
    "delays = {\"DAC_A\": 0,\n",
    "          \"DAC_B\": 0,\n",
    "          }\n",
    "\n",
    "# (OPTIONAL) Use ch_map if keys don't match channel names\n",
    "ch_map={\"DAC_A\": \"MW\",\n",
    "        \"DAC_B\": \"MW\",\n",
    "        }\n",
    "\n",
    "pulses = RfsocPulses(sequence,\n",
    "                     ch_map=ch_map,\n",
    "                     gains=gains,\n",
    "                     delays=delays,\n",
    "                     print_params=True\n",
    "                     )"
   ]
  },
  {
   "cell_type": "code",
   "execution_count": 194,
   "metadata": {},
   "outputs": [],
   "source": [
    "# Import DAC and ssb calibrations\n",
    "with open('pickles/calibrate_phase.pickle', 'rb') as handle:\n",
    "    dac_phis = pickle.load(handle)\n",
    "calibration = RfsocCalibration(dac_phis)"
   ]
  },
  {
   "cell_type": "code",
   "execution_count": 219,
   "metadata": {},
   "outputs": [
    {
     "name": "stdout",
     "output_type": "stream",
     "text": [
      "\n",
      "// Program\n",
      "\n",
      "        synci 200;\n",
      "        regwi 0, $14, 0;\n",
      "LOOP_I: regwi 1, $22, 100.0;                    //freq = 100.0\n",
      "        regwi 1, $23, 939524096;                //phase = 3758096384\n",
      "        bitwi 1, $23, $23 << 2;\n",
      "        regwi 1, $25, 32766;                    //gain = 32766\n",
      "        regwi 1, $24, 0;                        //addr = 0\n",
      "        regwi 1, $26, 524381;                   //phrst| stdysel | mode | | outsel = 0b01000 | length = 93 \n",
      "        regwi 1, $22, 43690667;                 //freq = 43690667\n",
      "        regwi 1, $23, 0;                        //phase = 0\n",
      "        regwi 1, $25, 20000;                    //gain = 20000\n",
      "        regwi 1, $26, 589855;                   //phrst| stdysel | mode | | outsel = 0b01001 | length = 31 \n",
      "        regwi 1, $27, 102;                      //t = 102\n",
      "        set 1, 1, $22, $23, $0, $25, $26, $27;  //ch = 1, pulse @t = $27\n",
      "        regwi 1, $22, 100.0;                    //freq = 100.0\n",
      "        regwi 1, $23, 939524096;                //phase = 3758096384\n",
      "        bitwi 1, $23, $23 << 2;\n",
      "        regwi 1, $25, 32766;                    //gain = 32766\n",
      "        regwi 1, $24, 93;                       //addr = 93\n",
      "        regwi 1, $26, 524319;                   //phrst| stdysel | mode | | outsel = 0b01000 | length = 31 \n",
      "        regwi 0, $22, 100.0;                    //freq = 100.0\n",
      "        regwi 0, $23, 939524096;                //phase = 3758096384\n",
      "        bitwi 0, $23, $23 << 2;\n",
      "        regwi 0, $25, 32766;                    //gain = 32766\n",
      "        regwi 0, $24, 0;                        //addr = 0\n",
      "        regwi 0, $26, 524381;                   //phrst| stdysel | mode | | outsel = 0b01000 | length = 93 \n",
      "        regwi 0, $22, 43690667;                 //freq = 43690667\n",
      "        regwi 0, $23, 412293555;                //phase = 412293555\n",
      "        regwi 0, $25, 20000;                    //gain = 20000\n",
      "        regwi 0, $26, 589855;                   //phrst| stdysel | mode | | outsel = 0b01001 | length = 31 \n",
      "        regwi 0, $27, 102;                      //t = 102\n",
      "        set 0, 0, $22, $23, $0, $25, $26, $27;  //ch = 0, pulse @t = $27\n",
      "        regwi 0, $22, 100.0;                    //freq = 100.0\n",
      "        regwi 0, $23, 939524096;                //phase = 3758096384\n",
      "        bitwi 0, $23, $23 << 2;\n",
      "        regwi 0, $25, 32766;                    //gain = 32766\n",
      "        regwi 0, $24, 93;                       //addr = 93\n",
      "        regwi 0, $26, 524319;                   //phrst| stdysel | mode | | outsel = 0b01000 | length = 31 \n",
      "        synci 164;\n",
      "        loopnz 0, $14, @LOOP_I;\n",
      "        end ;\n"
     ]
    }
   ],
   "source": [
    "# Create program object\n",
    "prog = QickProgram(soccfg)\n",
    "pulses.generate_asm(prog, calibration, reps=1)\n",
    "\n",
    "# Configure board for internal start\n",
    "# pulses.config_internal_start(soc, prog)\n",
    "# soc.tproc.start() # Run program\n",
    "\n",
    "# Configure board for external PMOD1_0 start\n",
    "# pulse_sequences.config_external_start(soc, prog)\n",
    "\n",
    "print(prog)"
   ]
  },
  {
   "cell_type": "code",
   "execution_count": 33,
   "metadata": {},
   "outputs": [],
   "source": [
    "soc.reset_gens()"
   ]
  }
 ],
 "metadata": {
  "kernelspec": {
   "display_name": ".qick_venv",
   "language": "python",
   "name": "python3"
  },
  "language_info": {
   "codemirror_mode": {
    "name": "ipython",
    "version": 3
   },
   "file_extension": ".py",
   "mimetype": "text/x-python",
   "name": "python",
   "nbconvert_exporter": "python",
   "pygments_lexer": "ipython3",
   "version": "3.9.13"
  }
 },
 "nbformat": 4,
 "nbformat_minor": 2
}
