{
 "cells": [
  {
   "cell_type": "markdown",
   "metadata": {},
   "source": [
    "# RFSoC Pulses Demo"
   ]
  },
  {
   "cell_type": "code",
   "execution_count": 7,
   "metadata": {},
   "outputs": [
    {
     "name": "stdout",
     "output_type": "stream",
     "text": [
      "The autoreload extension is already loaded. To reload it, use:\n",
      "  %reload_ext autoreload\n",
      "%pylab is deprecated, use %matplotlib inline and import the required libraries.\n",
      "Populating the interactive namespace from numpy and matplotlib\n"
     ]
    }
   ],
   "source": [
    "# Import libraries\n",
    "%load_ext autoreload\n",
    "%autoreload 2\n",
    "\n",
    "import sys\n",
    "sys.path.append('rfsoc_lib')\n",
    "from rfsoc_calibration import RfsocCalibration\n",
    "from rfsoc_pulses import RfsocPulses\n",
    "\n",
    "import pickle\n",
    "%pylab inline"
   ]
  },
  {
   "cell_type": "code",
   "execution_count": 8,
   "metadata": {},
   "outputs": [
    {
     "name": "stdout",
     "output_type": "stream",
     "text": [
      "\n",
      "QICK configuration:\n",
      "\n",
      "\tBoard: RFSoC4x2\n",
      "\n",
      "\tSoftware version: 0.2.267\n",
      "\tFirmware timestamp: Wed Sep  6 18:49:29 2023\n",
      "\n",
      "\tGlobal clocks (MHz): tProcessor 409.600, RF reference 491.520\n",
      "\n",
      "\t2 signal generator channels:\n",
      "\t0:\taxis_signal_gen_v6 - envelope memory 65536 samples (6.667 us)\n",
      "\t\tfs=9830.400 MHz, fabric=614.400 MHz, 32-bit DDS, range=9830.400 MHz\n",
      "\t\tDAC tile 0, blk 0 is DAC_B\n",
      "\t1:\taxis_signal_gen_v6 - envelope memory 65536 samples (6.667 us)\n",
      "\t\tfs=9830.400 MHz, fabric=614.400 MHz, 32-bit DDS, range=9830.400 MHz\n",
      "\t\tDAC tile 2, blk 0 is DAC_A\n",
      "\n",
      "\t2 readout channels:\n",
      "\t0:\taxis_readout_v2 - configured by PYNQ\n",
      "\t\tfs=4423.680 MHz, decimated=552.960 MHz, 32-bit DDS, range=4423.680 MHz\n",
      "\t\tmaxlen 16384 accumulated, 1024 decimated (1.852 us)\n",
      "\t\ttriggered by output 7, pin 14, feedback to tProc input 0\n",
      "\t\tADC tile 0, blk 0 is ADC_D\n",
      "\t1:\taxis_readout_v2 - configured by PYNQ\n",
      "\t\tfs=4423.680 MHz, decimated=552.960 MHz, 32-bit DDS, range=4423.680 MHz\n",
      "\t\tmaxlen 16384 accumulated, 1024 decimated (1.852 us)\n",
      "\t\ttriggered by output 7, pin 15, feedback to tProc input 1\n",
      "\t\tADC tile 0, blk 1 is ADC_C\n",
      "\n",
      "\t8 digital output pins:\n",
      "\t0:\tPMOD0_0\n",
      "\t1:\tPMOD0_1\n",
      "\t2:\tPMOD0_2\n",
      "\t3:\tPMOD0_3\n",
      "\t4:\tPMOD0_4\n",
      "\t5:\tPMOD0_5\n",
      "\t6:\tPMOD0_6\n",
      "\t7:\tPMOD0_7\n",
      "\n",
      "\ttProc axis_tproc64x32_x8 (\"v1\") rev 4: program memory 1024 words, data memory 1024 words\n",
      "\t\texternal start pin: PMOD1_0\n",
      "\n",
      "\tDDR4 memory buffer: 1073741824 samples (1.942 sec), 256 samples/transfer\n",
      "\t\twired to readouts [0, 1]\n",
      "\n",
      "\tMR buffer: 8192 samples (1.852 us), wired to readouts [0, 1]\n"
     ]
    }
   ],
   "source": [
    "# Board libraries\n",
    "from qick import *\n",
    "import Pyro4\n",
    "\n",
    "# Pyro communicates with board\n",
    "Pyro4.config.SERIALIZER = \"pickle\"\n",
    "Pyro4.config.PICKLE_PROTOCOL_VERSION=4\n",
    "\n",
    "# Static IP proxy\n",
    "ns_host = \"172.24.106.21\" # <-- SET IP ADDRESS\n",
    "ns_port = 8888\n",
    "proxy_name = \"myqick\"\n",
    "\n",
    "# QICK object\n",
    "ns = Pyro4.locateNS(host=ns_host, port=ns_port)\n",
    "soc = Pyro4.Proxy(ns.lookup(proxy_name))\n",
    "soccfg = QickConfig(soc.get_cfg())\n",
    "print(soccfg)"
   ]
  },
  {
   "cell_type": "markdown",
   "metadata": {},
   "source": [
    "## Example Sequence\n",
    "\n",
    "![Example pulses](images/Sequence_ch1_ch2_mw.png)"
   ]
  },
  {
   "cell_type": "code",
   "execution_count": 9,
   "metadata": {},
   "outputs": [
    {
     "name": "stdout",
     "output_type": "stream",
     "text": [
      "ch1_Dig [(100.0, 0), (47000, 1), (100.0, 0), (3000.0, 1), (1000.0, 0), (3000.0, 1), (1000.0, 0), (3000.0, 1), (1000.0, 0), (3000.0, 1), (1000.0, 0), (3000.0, 1), (1000.0, 0), (3000.0, 1), (1000.0, 0), (3000.0, 1), (1000.0, 0), (3000.0, 1), (1000.0, 0), (3000.0, 1), (1000.0, 0), (3000.0, 1), (1000.0, 0), (3000.0, 1), (1000.0, 0), (3000.0, 1), (100.0, 0)]\n",
      "ch2_Dig [(100.0, 0), (47000, 1), (100.0, 0), (3000.0, 0), (450.0, 0), (100.0, 1), (450.0, 0), (3000.0, 0), (450.0, 0), (100.0, 1), (450.0, 0), (3000.0, 0), (450.0, 0), (100.0, 1), (450.0, 0), (3000.0, 0), (450.0, 0), (100.0, 1), (450.0, 0), (3000.0, 0), (450.0, 0), (100.0, 1), (450.0, 0), (3000.0, 0), (450.0, 0), (100.0, 1), (450.0, 0), (3000.0, 0), (450.0, 0), (100.0, 1), (450.0, 0), (3000.0, 0), (450.0, 0), (100.0, 1), (450.0, 0), (3000.0, 0), (450.0, 0), (100.0, 1), (450.0, 0), (3000.0, 0), (450.0, 0), (100.0, 1), (450.0, 0), (3000.0, 0), (450.0, 0), (100.0, 1), (450.0, 0), (3000.0, 0), (100.0, 0)]\n",
      "MW [(100.0, 0), (47000, 1, 0.05, 0), (100.0, 0), (3000.0, 0), (450.0, 0), (100.0, 1.0, 0.05, 0.0), (450.0, 0), (3000.0, 0), (450.0, 0), (100.0, 1.0, 0.055, 0.0), (450.0, 0), (3000.0, 0), (450.0, 0), (100.0, 1.0, 0.06, 0.0), (450.0, 0), (3000.0, 0), (450.0, 0), (100.0, 1.0, 0.065, 0.0), (450.0, 0), (3000.0, 0), (450.0, 0), (100.0, 1.0, 0.07, 0.0), (450.0, 0), (3000.0, 0), (450.0, 0), (100.0, 1.0, 0.075, 0.0), (450.0, 0), (3000.0, 0), (450.0, 0), (100.0, 1.0, 0.08, 0.0), (450.0, 0), (3000.0, 0), (450.0, 0), (100.0, 1.0, 0.085, 0.0), (450.0, 0), (3000.0, 0), (450.0, 0), (100.0, 1.0, 0.09, 0.0), (450.0, 0), (3000.0, 0), (450.0, 0), (100.0, 1.0, 0.095, 0.0), (450.0, 0), (3000.0, 0), (450.0, 0), (100.0, 1.0, 0.1, 0.0), (450.0, 0), (3000.0, 0), (100.0, 0)]\n"
     ]
    }
   ],
   "source": [
    "# Import dictionary of sequences\n",
    "with open('pickles/cooling_sequence.pickle', 'rb') as handle:\n",
    "    imported_sequences = pickle.load(handle)\n",
    "\n",
    "for key, value in imported_sequences.items():\n",
    "    print(key, value)"
   ]
  },
  {
   "cell_type": "code",
   "execution_count": 10,
   "metadata": {},
   "outputs": [
    {
     "name": "stdout",
     "output_type": "stream",
     "text": [
      "----- DAC A -----\n",
      "ch_type: DAC\n",
      "ch_index: 1\n",
      "delay: 0\n",
      "gain: 20000\n",
      "lengths: [47.0, 0.1, 0.1, 0.1, 0.1, 0.1, 0.1, 0.1, 0.1, 0.1, 0.1, 0.1]\n",
      "times: [0.1, 50.65, 54.65, 58.65, 62.65, 66.65, 70.65, 74.65, 78.65, 82.65, 86.65, 90.65]\n",
      "amps: [1.0, 1.0, 1.0, 1.0, 1.0, 1.0, 1.0, 1.0, 1.0, 1.0, 1.0, 1.0]\n",
      "freqs: [50.0, 50.0, 55.0, 60.0, 65.0, 70.0, 75.0, 80.0, 85.0, 90.0, 95.0, 100.0]\n",
      "phases: [0.0, 0.0, 0.0, 0.0, 0.0, 0.0, 0.0, 0.0, 0.0, 0.0, 0.0, 0.0]\n",
      "num_pulses: 12\n",
      "duration: 94.3\n",
      "----- DAC B -----\n",
      "ch_type: DAC\n",
      "ch_index: 0\n",
      "delay: 0\n",
      "gain: 20000\n",
      "lengths: [47.0, 0.1, 0.1, 0.1, 0.1, 0.1, 0.1, 0.1, 0.1, 0.1, 0.1, 0.1]\n",
      "times: [0.1, 50.65, 54.65, 58.65, 62.65, 66.65, 70.65, 74.65, 78.65, 82.65, 86.65, 90.65]\n",
      "amps: [1.0, 1.0, 1.0, 1.0, 1.0, 1.0, 1.0, 1.0, 1.0, 1.0, 1.0, 1.0]\n",
      "freqs: [50.0, 50.0, 55.0, 60.0, 65.0, 70.0, 75.0, 80.0, 85.0, 90.0, 95.0, 100.0]\n",
      "phases: [0.0, 0.0, 0.0, 0.0, 0.0, 0.0, 0.0, 0.0, 0.0, 0.0, 0.0, 0.0]\n",
      "num_pulses: 12\n",
      "duration: 94.3\n",
      "----- DIG 0 ------\n",
      "ch_type: DIG\n",
      "ch_index: 0\n",
      "delay: 38\n",
      "lengths: [47.0, 0.1, 0.1, 0.1, 0.1, 0.1, 0.1, 0.1, 0.1, 0.1, 0.1, 0.1]\n",
      "times: [0.1, 50.65, 54.65, 58.65, 62.65, 66.65, 70.65, 74.65, 78.65, 82.65, 86.65, 90.65]\n",
      "num_pulses: 12\n",
      "duration: 94.3\n",
      "----- DIG 1 ------\n",
      "ch_type: DIG\n",
      "ch_index: 1\n",
      "delay: 0\n",
      "lengths: [47.0, 3.0, 3.0, 3.0, 3.0, 3.0, 3.0, 3.0, 3.0, 3.0, 3.0, 3.0, 3.0]\n",
      "times: [0.1, 47.2, 51.2, 55.2, 59.2, 63.2, 67.2, 71.2, 75.2, 79.2, 83.2, 87.2, 91.2]\n",
      "num_pulses: 13\n",
      "duration: 94.3\n",
      "----- End time: 94.3 -----\n"
     ]
    }
   ],
   "source": [
    "# (OPTIONAL) Multiplicative gain for DAC amplitudes. Defaults to 10000.\n",
    "gains = {\"DAC_A\": 20000,\n",
    "         \"DAC_B\": 20000,\n",
    "         }\n",
    "\n",
    "# (OPTIONAL) Channel trigger delays for synchronisation\n",
    "delays = {\"DAC_A\": 0,\n",
    "          \"DAC_B\": 0,\n",
    "          \"DIG_0\": 38,\n",
    "          }\n",
    "\n",
    "# (OPTIONAL) Use ch_map if keys don't match channel names\n",
    "ch_map={\"DAC_A\": \"MW\",\n",
    "        \"DAC_B\": \"MW\",\n",
    "        \"DIG_0\": \"ch2_Dig\",\n",
    "        \"DIG_1\": \"ch1_Dig\",\n",
    "        }\n",
    "\n",
    "pulses = RfsocPulses(imported_sequences,\n",
    "                              ch_map=ch_map,\n",
    "                              gains=gains,\n",
    "                              delays=delays\n",
    "                              )"
   ]
  },
  {
   "cell_type": "code",
   "execution_count": 11,
   "metadata": {},
   "outputs": [],
   "source": [
    "# Import DAC and ssb calibrations\n",
    "with open('pickles/calibrate_phase.pickle', 'rb') as handle:\n",
    "    dac_phis = pickle.load(handle)\n",
    "calibration = RfsocCalibration(dac_phis)"
   ]
  },
  {
   "cell_type": "code",
   "execution_count": 14,
   "metadata": {},
   "outputs": [],
   "source": [
    "# Create program object\n",
    "prog = QickProgram(soccfg)\n",
    "pulses.generate_asm(prog, calibration, reps=10)\n",
    "\n",
    "# Configure board for internal start\n",
    "pulses.config_internal_start(soc, prog)\n",
    "soc.tproc.start() # Run program\n",
    "\n",
    "# Configure board for external PMOD1_0 start\n",
    "# pulse_sequences.config_external_start(soc, prog)\n",
    "\n",
    "# print(prog)"
   ]
  },
  {
   "cell_type": "markdown",
   "metadata": {},
   "source": [
    "## DAC Outputs\n",
    "\n",
    "![DAC Outputs](images/dac_outputs.png)\n",
    "\n",
    "![After phase offset](images/corrected_phase.png)\n",
    "\n",
    "## Digital Outputs\n",
    "\n",
    "![Digital Outputs](images/dig_outputs.png)"
   ]
  }
 ],
 "metadata": {
  "kernelspec": {
   "display_name": ".qick_venv",
   "language": "python",
   "name": "python3"
  },
  "language_info": {
   "codemirror_mode": {
    "name": "ipython",
    "version": 3
   },
   "file_extension": ".py",
   "mimetype": "text/x-python",
   "name": "python",
   "nbconvert_exporter": "python",
   "pygments_lexer": "ipython3",
   "version": "3.9.13"
  }
 },
 "nbformat": 4,
 "nbformat_minor": 2
}
