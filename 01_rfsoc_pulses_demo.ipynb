{
 "cells": [
  {
   "cell_type": "markdown",
   "metadata": {},
   "source": [
    "# RFSoC MW + Digital Pulse Generator Demonstration Notebook\n",
    "\n",
    "- Turn board on and connect to computer using network cable.\n",
    "- Go to `http://192.168.2.99:9090/lab` in browser.\n",
    "- Run cell in `01_nameserver.ipynb`, followed by cell in `02_server.ipynb`.\n",
    "- Read following cells carefully, follow instructions, and run in order.\n",
    "\n",
    "## Import libraries and configure board as a remote object"
   ]
  },
  {
   "cell_type": "code",
   "execution_count": 2,
   "metadata": {},
   "outputs": [
    {
     "name": "stdout",
     "output_type": "stream",
     "text": [
      "%pylab is deprecated, use %matplotlib inline and import the required libraries.\n",
      "Populating the interactive namespace from numpy and matplotlib\n",
      "\n",
      "QICK configuration:\n",
      "\n",
      "\tBoard: RFSoC4x2\n",
      "\n",
      "\tSoftware version: 0.2.267\n",
      "\tFirmware timestamp: Wed Sep  6 18:49:29 2023\n",
      "\n",
      "\tGlobal clocks (MHz): tProcessor 409.600, RF reference 491.520\n",
      "\n",
      "\t2 signal generator channels:\n",
      "\t0:\taxis_signal_gen_v6 - envelope memory 65536 samples (6.667 us)\n",
      "\t\tfs=9830.400 MHz, fabric=614.400 MHz, 32-bit DDS, range=9830.400 MHz\n",
      "\t\tDAC tile 0, blk 0 is DAC_B\n",
      "\t1:\taxis_signal_gen_v6 - envelope memory 65536 samples (6.667 us)\n",
      "\t\tfs=9830.400 MHz, fabric=614.400 MHz, 32-bit DDS, range=9830.400 MHz\n",
      "\t\tDAC tile 2, blk 0 is DAC_A\n",
      "\n",
      "\t2 readout channels:\n",
      "\t0:\taxis_readout_v2 - configured by PYNQ\n",
      "\t\tfs=4423.680 MHz, decimated=552.960 MHz, 32-bit DDS, range=4423.680 MHz\n",
      "\t\tmaxlen 16384 accumulated, 1024 decimated (1.852 us)\n",
      "\t\ttriggered by output 7, pin 14, feedback to tProc input 0\n",
      "\t\tADC tile 0, blk 0 is ADC_D\n",
      "\t1:\taxis_readout_v2 - configured by PYNQ\n",
      "\t\tfs=4423.680 MHz, decimated=552.960 MHz, 32-bit DDS, range=4423.680 MHz\n",
      "\t\tmaxlen 16384 accumulated, 1024 decimated (1.852 us)\n",
      "\t\ttriggered by output 7, pin 15, feedback to tProc input 1\n",
      "\t\tADC tile 0, blk 1 is ADC_C\n",
      "\n",
      "\t8 digital output pins:\n",
      "\t0:\tPMOD0_0\n",
      "\t1:\tPMOD0_1\n",
      "\t2:\tPMOD0_2\n",
      "\t3:\tPMOD0_3\n",
      "\t4:\tPMOD0_4\n",
      "\t5:\tPMOD0_5\n",
      "\t6:\tPMOD0_6\n",
      "\t7:\tPMOD0_7\n",
      "\n",
      "\ttProc axis_tproc64x32_x8 (\"v1\") rev 4: program memory 1024 words, data memory 1024 words\n",
      "\t\texternal start pin: PMOD1_0\n",
      "\n",
      "\tDDR4 memory buffer: 1073741824 samples (1.942 sec), 256 samples/transfer\n",
      "\t\twired to readouts [0, 1]\n",
      "\n",
      "\tMR buffer: 8192 samples (1.852 us), wired to readouts [0, 1]\n"
     ]
    }
   ],
   "source": [
    "# Import libraries\n",
    "%load_ext autoreload\n",
    "%autoreload 2\n",
    "\n",
    "from pulse_lib.pickle_parse import *\n",
    "from pulse_lib.phase_calibration import *\n",
    "\n",
    "from qick import *\n",
    "import Pyro4\n",
    "%pylab inline\n",
    "\n",
    "# Pyro communicates with board\n",
    "Pyro4.config.SERIALIZER = \"pickle\"\n",
    "Pyro4.config.PICKLE_PROTOCOL_VERSION=4\n",
    "\n",
    "# Static IP proxy\n",
    "ns_host = \"192.168.2.99\"\n",
    "ns_port = 8888\n",
    "proxy_name = \"myqick\"\n",
    "\n",
    "# QICK object\n",
    "ns = Pyro4.locateNS(host=ns_host, port=ns_port)\n",
    "soc = Pyro4.Proxy(ns.lookup(proxy_name))\n",
    "soccfg = QickConfig(soc.get_cfg())\n",
    "print(soccfg)"
   ]
  },
  {
   "cell_type": "markdown",
   "metadata": {},
   "source": [
    "## Import pickle file containing sequences of pulses\n",
    "\n",
    "### Example sequence of pulses:\n",
    "\n",
    "![Example pulses](images/Sequence_ch1_ch2_mw.png)"
   ]
  },
  {
   "cell_type": "code",
   "execution_count": 3,
   "metadata": {},
   "outputs": [
    {
     "name": "stdout",
     "output_type": "stream",
     "text": [
      "ch1_Dig [(100.0, 0), (47000, 1), (100.0, 0), (3000.0, 1), (1000.0, 0), (3000.0, 1), (1000.0, 0), (3000.0, 1), (1000.0, 0), (3000.0, 1), (1000.0, 0), (3000.0, 1), (1000.0, 0), (3000.0, 1), (1000.0, 0), (3000.0, 1), (1000.0, 0), (3000.0, 1), (1000.0, 0), (3000.0, 1), (1000.0, 0), (3000.0, 1), (1000.0, 0), (3000.0, 1), (1000.0, 0), (3000.0, 1), (100.0, 0)]\n",
      "ch2_Dig [(100.0, 0), (47000, 1), (100.0, 0), (3000.0, 0), (450.0, 0), (100.0, 1), (450.0, 0), (3000.0, 0), (450.0, 0), (100.0, 1), (450.0, 0), (3000.0, 0), (450.0, 0), (100.0, 1), (450.0, 0), (3000.0, 0), (450.0, 0), (100.0, 1), (450.0, 0), (3000.0, 0), (450.0, 0), (100.0, 1), (450.0, 0), (3000.0, 0), (450.0, 0), (100.0, 1), (450.0, 0), (3000.0, 0), (450.0, 0), (100.0, 1), (450.0, 0), (3000.0, 0), (450.0, 0), (100.0, 1), (450.0, 0), (3000.0, 0), (450.0, 0), (100.0, 1), (450.0, 0), (3000.0, 0), (450.0, 0), (100.0, 1), (450.0, 0), (3000.0, 0), (450.0, 0), (100.0, 1), (450.0, 0), (3000.0, 0), (100.0, 0)]\n",
      "MW [(100.0, 0), (47000, 1, 0.05, 0), (100.0, 0), (3000.0, 0), (450.0, 0), (100.0, 1.0, 0.05, 0.0), (450.0, 0), (3000.0, 0), (450.0, 0), (100.0, 1.0, 0.055, 0.0), (450.0, 0), (3000.0, 0), (450.0, 0), (100.0, 1.0, 0.06, 0.0), (450.0, 0), (3000.0, 0), (450.0, 0), (100.0, 1.0, 0.065, 0.0), (450.0, 0), (3000.0, 0), (450.0, 0), (100.0, 1.0, 0.07, 0.0), (450.0, 0), (3000.0, 0), (450.0, 0), (100.0, 1.0, 0.075, 0.0), (450.0, 0), (3000.0, 0), (450.0, 0), (100.0, 1.0, 0.08, 0.0), (450.0, 0), (3000.0, 0), (450.0, 0), (100.0, 1.0, 0.085, 0.0), (450.0, 0), (3000.0, 0), (450.0, 0), (100.0, 1.0, 0.09, 0.0), (450.0, 0), (3000.0, 0), (450.0, 0), (100.0, 1.0, 0.095, 0.0), (450.0, 0), (3000.0, 0), (450.0, 0), (100.0, 1.0, 0.1, 0.0), (450.0, 0), (3000.0, 0), (100.0, 0)]\n"
     ]
    }
   ],
   "source": [
    "# Import dictionary of sequences from pickle file\n",
    "import pickle\n",
    "with open('pickles/cooling_sequence.pickle', 'rb') as handle:\n",
    "    imported_sequences = pickle.load(handle)\n",
    "\n",
    "for key, value in imported_sequences.items():\n",
    "    print(key, value)"
   ]
  },
  {
   "cell_type": "markdown",
   "metadata": {},
   "source": [
    "## Parse pickle file and specify channel delays"
   ]
  },
  {
   "cell_type": "code",
   "execution_count": 4,
   "metadata": {},
   "outputs": [
    {
     "name": "stdout",
     "output_type": "stream",
     "text": [
      "----- DAC A -----\n",
      "ch_type: DAC\n",
      "ch_index: 1\n",
      "gain: 20000\n",
      "delay: -38\n",
      "lengths: [47.0, 0.1, 0.1, 0.1, 0.1, 0.1, 0.1, 0.1, 0.1, 0.1, 0.1, 0.1]\n",
      "times: [0.1, 50.65, 54.65, 58.65, 62.65, 66.65, 70.65, 74.65, 78.65, 82.65, 86.65, 90.65]\n",
      "amps: [1, 1.0, 1.0, 1.0, 1.0, 1.0, 1.0, 1.0, 1.0, 1.0, 1.0, 1.0]\n",
      "freqs: [50.0, 50.0, 55.0, 60.0, 65.0, 70.0, 75.0, 80.0, 85.0, 90.0, 95.0, 100.0]\n",
      "phases: [0, 0.0, 0.0, 0.0, 0.0, 0.0, 0.0, 0.0, 0.0, 0.0, 0.0, 0.0]\n",
      "num_pulses: 12\n",
      "duration: 94.3\n",
      "----- DAC B -----\n",
      "ch_type: DAC\n",
      "ch_index: 0\n",
      "gain: 20000\n",
      "delay: -38\n",
      "lengths: [47.0, 0.1, 0.1, 0.1, 0.1, 0.1, 0.1, 0.1, 0.1, 0.1, 0.1, 0.1]\n",
      "times: [0.1, 50.65, 54.65, 58.65, 62.65, 66.65, 70.65, 74.65, 78.65, 82.65, 86.65, 90.65]\n",
      "amps: [1, 1.0, 1.0, 1.0, 1.0, 1.0, 1.0, 1.0, 1.0, 1.0, 1.0, 1.0]\n",
      "freqs: [50.0, 50.0, 55.0, 60.0, 65.0, 70.0, 75.0, 80.0, 85.0, 90.0, 95.0, 100.0]\n",
      "phases: [0, 0.0, 0.0, 0.0, 0.0, 0.0, 0.0, 0.0, 0.0, 0.0, 0.0, 0.0]\n",
      "num_pulses: 12\n",
      "duration: 94.3\n",
      "----- DIG 0 ------\n",
      "ch_type: DIG\n",
      "ch_index: 0\n",
      "gain: 10000\n",
      "delay: 0\n",
      "lengths: [47.0, 0.1, 0.1, 0.1, 0.1, 0.1, 0.1, 0.1, 0.1, 0.1, 0.1, 0.1]\n",
      "times: [0.1, 50.65, 54.65, 58.65, 62.65, 66.65, 70.65, 74.65, 78.65, 82.65, 86.65, 90.65]\n",
      "num_pulses: 12\n",
      "duration: 94.3\n",
      "----- DIG 1 ------\n",
      "ch_type: DIG\n",
      "ch_index: 1\n",
      "gain: 10000\n",
      "delay: 0\n",
      "lengths: [47.0, 3.0, 3.0, 3.0, 3.0, 3.0, 3.0, 3.0, 3.0, 3.0, 3.0, 3.0, 3.0]\n",
      "times: [0.1, 47.2, 51.2, 55.2, 59.2, 63.2, 67.2, 71.2, 75.2, 79.2, 83.2, 87.2, 91.2]\n",
      "num_pulses: 13\n",
      "duration: 94.3\n",
      "----- End time: 94.3 -----\n"
     ]
    }
   ],
   "source": [
    "# Gain and delay defaults are specified - not necessary to assign individually\n",
    "# Multiplicative gain for DAC amplitudes\n",
    "gains = {\"DAC_A\": 20000,\n",
    "         \"DAC_B\": 20000\n",
    "         }\n",
    "\n",
    "# Channel trigger delays for synchronisation\n",
    "delays = {\"DAC_A\": -38,\n",
    "          \"DAC_B\": -38,\n",
    "          \"DIG_0\": 0\n",
    "          }\n",
    "\n",
    "# Method 1: use if keys don't match channel names\n",
    "ch_map={\"DAC_A\": \"MW\",\n",
    "        \"DAC_B\": \"MW\",\n",
    "        \"DIG_0\":\"ch2_Dig\",\n",
    "        \"DIG_1\":\"ch1_Dig\"\n",
    "        }\n",
    "\n",
    "pulse_sequences = PulseProgram(imported_sequences,\n",
    "                              ch_map=ch_map,\n",
    "                              gains=gains,\n",
    "                              delays=delays\n",
    "                              )\n",
    "\n",
    "# Method 2: use if channel names already configured (uncomment block below)\n",
    "# renamed_sequences = {}\n",
    "# renamed_sequences[\"DAC_A\"] = imported_sequences[\"MW\"]\n",
    "# renamed_sequences[\"DIG_0\"] = imported_sequences[\"ch2_Dig\"]\n",
    "# renamed_sequences[\"DIG_1\"] = imported_sequences[\"ch1_Dig\"]\n",
    "\n",
    "# pulse_sequences = PulseProgram(renamed_sequences)"
   ]
  },
  {
   "cell_type": "markdown",
   "metadata": {},
   "source": [
    "## Calibrate DAC phase offsets\n",
    "\n",
    "- Connect `DAC_A` to `ADC_C`, and `DAC_B` to `ADC_D` using 2 identical SMA cables.\n",
    "- Run the cell below to calculate the difference in phase between the DACs at the frequencies generated in your sequence of pulses."
   ]
  },
  {
   "cell_type": "code",
   "execution_count": 4,
   "metadata": {},
   "outputs": [],
   "source": [
    "res = []\n",
    "config = {\"reps\": 1}\n",
    "dac_freqs = sorted(list(set(pulse_sequences.ch_cfg[\"DAC_A\"][\"freqs\"] + pulse_sequences.ch_cfg[\"DAC_B\"][\"freqs\"])))\n",
    "\n",
    "for freq in dac_freqs:\n",
    "    config['pulse_freq'] = freq\n",
    "    prog = CalibratePhase(soccfg, config)\n",
    "    data = prog.acquire_decimated(soc, progress=False)\n",
    "    res.append([prog.calculate_phase(d) for d in data])\n",
    "    soc.reset_gens()"
   ]
  },
  {
   "cell_type": "markdown",
   "metadata": {},
   "source": [
    "## Store and display phase offsets\n",
    "\n",
    "- NOTE: You will want to change the `DELAY` constant to account for mis-matched transmission line lengths.\n",
    "    - Re-run all cells following this text to program the altered value.\n",
    "    - The following code is in a separate cell to that above so that the delay may be changed without reconnecting the DACs and ADCs.\n",
    "    - DO NOT RUN THE CELL ABOVE after disconnecting the DACs and ADCs as the phase offset data will be junk."
   ]
  },
  {
   "cell_type": "code",
   "execution_count": 35,
   "metadata": {},
   "outputs": [
    {
     "data": {
      "image/png": "[encoded data removed]",
      "text/plain": [
       "<Figure size 640x480 with 1 Axes>"
      ]
     },
     "metadata": {},
     "output_type": "display_data"
    }
   ],
   "source": [
    "# FIXME: Don't like how this is relying on the order of the lists to work\n",
    "\n",
    "DELAY = -30e-5 # Change this to compensate for mismatched cable lengths etc.\n",
    "\n",
    "delta_phis = {}\n",
    "\n",
    "for i in range(len(dac_freqs)):\n",
    "    phase_delay = 360 * dac_freqs[i] * DELAY\n",
    "    delta_phis[dac_freqs[i]] = [((res[i][0][0] - res[i][1][0]) % 360) - phase_delay, 0] \n",
    "\n",
    "x,y = [], []\n",
    "for key, value in delta_phis.items():\n",
    "    # print(f\"{key}: {value[0]}\")\n",
    "    x.append(key)\n",
    "    y.append(value[0])\n",
    "\n",
    "plt.plot(x,y, marker=\"s\")\n",
    "plt.xlabel(\"Frequency [MHz]\")\n",
    "plt.ylabel(\"Phase offset [deg]\")\n",
    "plt.title(\"Phase offset between DAC_A and DAC_B\");"
   ]
  },
  {
   "cell_type": "markdown",
   "metadata": {},
   "source": [
    "### Before phase offset:\n",
    "\n",
    "![Before phase offset](images/uncorrected_phase.png)\n",
    "\n",
    "### After phase offset:\n",
    "\n",
    "![After phase offset](images/corrected_phase.png)"
   ]
  },
  {
   "cell_type": "markdown",
   "metadata": {},
   "source": [
    "## Initialise program and load default parameters\n",
    "\n",
    "- Remove SMA cables between DACs and ADCs and connect DACs to relevant inputs (eg. oscilloscope, experiment)."
   ]
  },
  {
   "cell_type": "code",
   "execution_count": 5,
   "metadata": {},
   "outputs": [],
   "source": [
    "# Create program object\n",
    "prog = QickProgram(soccfg)\n",
    "\n",
    "# Method 1 - Run, specifying number of repetitions\n",
    "pulse_sequences.generate_asm(prog, delta_phis, reps=10)\n",
    "\n",
    "# Method 2 - Run with no repetitions\n",
    "# raman_cooling.generate_asm(prog, gain=10000)"
   ]
  },
  {
   "cell_type": "markdown",
   "metadata": {},
   "source": [
    "## Run program with internal start and print QICK assembly"
   ]
  },
  {
   "cell_type": "code",
   "execution_count": 6,
   "metadata": {},
   "outputs": [],
   "source": [
    "# Load assembly to board and configure internal start\n",
    "pulse_sequences.config_internal_start(soc, prog)\n",
    "\n",
    "# Run program\n",
    "soc.tproc.start() \n",
    "\n",
    "# May configure board for external start using PMOD1_0\n",
    "# pulse_sequences.config_external_start(soc, prog)\n",
    "\n",
    "# Useful for debugging synchronisation issues\n",
    "# print(prog)"
   ]
  },
  {
   "cell_type": "markdown",
   "metadata": {},
   "source": [
    "### DAC Outputs:\n",
    "\n",
    "![DAC Outputs](images/dac_outputs.png)\n",
    "\n",
    "### Digital Outputs:\n",
    "\n",
    "![Digital Outputs](images/dig_outputs.png)"
   ]
  }
 ],
 "metadata": {
  "kernelspec": {
   "display_name": ".qick_venv",
   "language": "python",
   "name": "python3"
  },
  "language_info": {
   "codemirror_mode": {
    "name": "ipython",
    "version": 3
   },
   "file_extension": ".py",
   "mimetype": "text/x-python",
   "name": "python",
   "nbconvert_exporter": "python",
   "pygments_lexer": "ipython3",
   "version": "3.9.19"
  }
 },
 "nbformat": 4,
 "nbformat_minor": 2
}
