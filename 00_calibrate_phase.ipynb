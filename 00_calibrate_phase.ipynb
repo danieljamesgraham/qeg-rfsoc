{
 "cells": [
  {
   "cell_type": "markdown",
   "metadata": {},
   "source": [
    "# Phase Calibration Program\n",
    "\n",
    "Follow steps in notebook to produce dict in `pickles/calibrate_phase.pickle` for DAC channel synchronisation when performing IQ mixing.\n",
    "\n",
    "Keys of dict are frequencies and values are lists. List index 0 is phase offset to apply to DAC_B (degrees) and index 1 is phase offset to apply to DAC_A (degrees)."
   ]
  },
  {
   "cell_type": "code",
   "execution_count": null,
   "metadata": {},
   "outputs": [],
   "source": [
    "# Import libraries\n",
    "%load_ext autoreload\n",
    "%autoreload 2\n",
    "\n",
    "from qick import *\n",
    "import Pyro4\n",
    "import pickle\n",
    "%pylab inline\n",
    "\n",
    "# Pyro communicates with board\n",
    "Pyro4.config.SERIALIZER = \"pickle\"\n",
    "Pyro4.config.PICKLE_PROTOCOL_VERSION=4\n",
    "\n",
    "# Static IP proxy\n",
    "ns_host = \"192.168.2.99\"\n",
    "ns_port = 8888\n",
    "proxy_name = \"myqick\"\n",
    "\n",
    "# QICK object\n",
    "ns = Pyro4.locateNS(host=ns_host, port=ns_port)\n",
    "soc = Pyro4.Proxy(ns.lookup(proxy_name))\n",
    "soccfg = QickConfig(soc.get_cfg())\n",
    "print(soccfg)"
   ]
  },
  {
   "cell_type": "code",
   "execution_count": null,
   "metadata": {},
   "outputs": [],
   "source": [
    "# Declare calibration frequency range\n",
    "freqs = np.arange(21, 3001, 1)\n",
    "\n",
    "# Ensure frequency matching between DAC and ADC\n",
    "freqs = soccfg.adcfreq(freqs, gen_ch=0, ro_ch=0)"
   ]
  },
  {
   "cell_type": "code",
   "execution_count": null,
   "metadata": {},
   "outputs": [],
   "source": [
    "# Calibration program class declaration\n",
    "class CalibrationProgram(AveragerProgram):\n",
    "    def __init__(self,soccfg, cfg):\n",
    "        super().__init__(soccfg, cfg)\n",
    "\n",
    "    def initialize(self):\n",
    "        cfg=self.cfg   \n",
    "        \n",
    "        # Configure readout lengths and downconversion frequencies\n",
    "        for ch in self.cfg[\"ro_chs\"]:\n",
    "            self.declare_readout(ch=ch, length=self.cfg[\"readout_length\"],\n",
    "                                 freq=self.cfg[\"pulse_freq\"]) # Initialise ADC\n",
    "\n",
    "        # Create pulse with purely I component\n",
    "        idata = 30000*np.ones(16*cfg[\"length\"])\n",
    "        for ch in self.cfg[\"gen_chs\"]:\n",
    "            self.declare_gen(ch=ch, nqz=1) # Initialise DAC\n",
    "            self.add_pulse(ch=ch, name=\"measure\", idata=idata) # Store pulse in memory\n",
    "        \n",
    "        # Configure DACs with I pulse \n",
    "        freq=soccfg.freq2reg(cfg[\"pulse_freq\"])  # Convert to DAC frequency\n",
    "        for ch in self.cfg[\"gen_chs\"]:\n",
    "            self.set_pulse_registers(ch=ch, style=\"arb\", freq=freq, phase=cfg[\"res_phase\"], gain=cfg[\"pulse_gain\"], waveform=\"measure\", mode=\"periodic\") # Program DAC registers\n",
    "\n",
    "        self.synci(200)  # Give processor some time to configure pulses\n",
    "    \n",
    "    def body(self):\n",
    "        self.trigger(adcs=self.cfg[\"ro_chs\"],adc_trig_offset=self.cfg[\"adc_trig_offset\"])  # Trigger ADC readout\n",
    "        for ch in self.cfg[\"gen_chs\"]:\n",
    "            self.pulse(ch=ch, t=0) # Play DAC pulse\n",
    "\n",
    "        self.wait_all() # Wait until the readout is over\n",
    "        self.sync_all(200)  # Wait for measurement to complete\n",
    "\n",
    "# Calibration program configuration\n",
    "config={\"gen_chs\": [0, 1],\n",
    "        \"ro_chs\": [0, 1],\n",
    "        \"reps\":1000,\n",
    "        \"res_phase\":soccfg.deg2reg(0),\n",
    "        \"length\":10, # [Clock ticks]\n",
    "        \"readout_length\":1000, # [Clock ticks]\n",
    "        \"pulse_gain\":32000, # [DAC units]\n",
    "        \"adc_trig_offset\": 1000, # [Clock ticks]\n",
    "        \"soft_avgs\":1\n",
    "       }"
   ]
  },
  {
   "cell_type": "markdown",
   "metadata": {},
   "source": [
    "## Calibrate ADCs\n",
    "\n",
    "First, we ensure that both ADCs give the same phase measurement when connected to the same DAC.\n",
    "\n",
    "### ----- CONNECT DAC_A --> ADC_D -----"
   ]
  },
  {
   "cell_type": "code",
   "execution_count": null,
   "metadata": {},
   "outputs": [],
   "source": [
    "# Take ADC_D phase measurements\n",
    "adc_d_phis = {}\n",
    "\n",
    "for freq in freqs:\n",
    "    # Acquire average I and Q components over readout window\n",
    "    config['pulse_freq'] = freq\n",
    "    prog = CalibrationProgram(soccfg, config)\n",
    "    avg_data = prog.acquire(soc, progress=False)\n",
    "\n",
    "    # Calculate phase from I and Q components\n",
    "    adc_d_iq = avg_data[0][0][0] + 1j*avg_data[1][0][0]\n",
    "    adc_d_phi = np.remainder(np.angle(adc_d_iq,deg=True)+360,360)\n",
    "    adc_d_phis[freq] = adc_d_phi\n",
    "\n",
    "soc.reset_gens()"
   ]
  },
  {
   "cell_type": "code",
   "execution_count": null,
   "metadata": {},
   "outputs": [],
   "source": [
    "# # Plot ADC_D phase measurements (sanity check)\n",
    "# adc_d_freqs, adc_d_phases = [], []\n",
    "# for freq, phase in adc_d_phis.items():\n",
    "#     adc_d_freqs.append(freq)\n",
    "#     adc_d_phases.append(phase)\n",
    "\n",
    "# plt.plot(adc_d_freqs, adc_d_phases)\n",
    "# plt.xlabel(\"Frequency [MHz]\")\n",
    "# plt.ylabel(\"Phase [deg.]\")\n",
    "# plt.title(\"ADC_D Phase Offsets\");"
   ]
  },
  {
   "cell_type": "markdown",
   "metadata": {},
   "source": [
    "### ----- CONNECT DAC_A --> ADC_C -----"
   ]
  },
  {
   "cell_type": "code",
   "execution_count": null,
   "metadata": {},
   "outputs": [],
   "source": [
    "# Take ADC_C phase measurements\n",
    "adc_c_phis = {}\n",
    "\n",
    "for freq in freqs:\n",
    "    # Acquire average I and Q components over readout window\n",
    "    config['pulse_freq'] = freq\n",
    "    prog = CalibrationProgram(soccfg, config)\n",
    "    avg_data = prog.acquire(soc, progress=False)\n",
    "\n",
    "    # Calculate phase from I and Q components\n",
    "    adc_c_iq = avg_data[0][1][0] + 1j*avg_data[1][1][0]\n",
    "    adc_c_phi = np.remainder(np.angle(adc_c_iq,deg=True)+360,360)\n",
    "    adc_c_phis[freq] = adc_c_phi\n",
    "\n",
    "soc.reset_gens()"
   ]
  },
  {
   "cell_type": "code",
   "execution_count": null,
   "metadata": {},
   "outputs": [],
   "source": [
    "# # Plot ADC_C phase measurements (sanity check)\n",
    "# adc_c_freqs, adc_c_phases = [], []\n",
    "# for freq, phase in adc_c_phis.items():\n",
    "#     adc_c_freqs.append(freq)\n",
    "#     adc_c_phases.append(phase)\n",
    "\n",
    "# plt.plot(adc_c_freqs, adc_c_phases)\n",
    "# plt.xlabel(\"Frequency [MHz]\")\n",
    "# plt.ylabel(\"Phase [deg.]\")\n",
    "# plt.title(\"ADC_C Phase Offsets\");"
   ]
  },
  {
   "cell_type": "code",
   "execution_count": null,
   "metadata": {},
   "outputs": [],
   "source": [
    "# Calculate phase offset between ADCs\n",
    "adc_delta_phis = {}\n",
    "\n",
    "for freq in adc_c_phis:\n",
    "    adc_delta_phis[freq] = (adc_d_phis[freq] - adc_c_phis[freq]) % 360"
   ]
  },
  {
   "cell_type": "code",
   "execution_count": null,
   "metadata": {},
   "outputs": [],
   "source": [
    "# Plot phase offsets between ADCs\n",
    "adc_freqs, adc_phases = [], []\n",
    "for adc_freq, adc_phase in adc_delta_phis.items():\n",
    "    adc_freqs.append(adc_freq)\n",
    "    adc_phases.append(adc_phase)\n",
    "\n",
    "plt.plot(adc_freqs, adc_phases)\n",
    "plt.xlabel(\"Frequency [MHz]\")\n",
    "plt.ylabel(\"Phase delta [deg.]\")\n",
    "plt.title(\"Phase offset between ADC_C and ADC_D\");"
   ]
  },
  {
   "cell_type": "markdown",
   "metadata": {},
   "source": [
    "## Calibrate DACs\n",
    "\n",
    "Now that both ADCs are giving the same readings, we can measure the phase of both DACs simultaneously and calculate the phase offset that will be compensated for.\n",
    "\n",
    "### ----- CONNECT DAC_A --> ADC_C -----\n",
    "### ----- CONNECT DAC_B --> ADC_D -----"
   ]
  },
  {
   "cell_type": "code",
   "execution_count": null,
   "metadata": {},
   "outputs": [],
   "source": [
    "# Take DAC phase measurements\n",
    "delta_phis = {}\n",
    "\n",
    "for freq in freqs:\n",
    "    # Acquire average I and Q components over readout window\n",
    "    config['pulse_freq'] = freq\n",
    "    prog = CalibrationProgram(soccfg, config)\n",
    "    avg_data = prog.acquire(soc, progress=False)\n",
    "\n",
    "    # Calculate phase from I and Q components\n",
    "    dac_a_iq = avg_data[0][1][0] + 1j*avg_data[1][1][0]\n",
    "    dac_a_phi = np.remainder(np.angle(dac_a_iq,deg=True)+360,360)\n",
    "    dac_b_iq = avg_data[0][0][0] + 1j*avg_data[1][0][0]\n",
    "    dac_b_phi = np.remainder(np.angle(dac_b_iq,deg=True)+360,360)\n",
    "\n",
    "    # Calculate DAC phase offsets\n",
    "    delta_phis[freq] = [(dac_b_phi - dac_a_phi - adc_delta_phis[freq]) % 360, 0]\n",
    "\n",
    "soc.reset_gens()"
   ]
  },
  {
   "cell_type": "code",
   "execution_count": null,
   "metadata": {},
   "outputs": [],
   "source": [
    "freqs, phases = [], []\n",
    "for freq, phase in delta_phis.items():\n",
    "    freqs.append(freq)\n",
    "    phases.append(phase[0])\n",
    "\n",
    "plt.plot(freqs, phases)\n",
    "plt.xlabel(\"Frequency [MHz]\")\n",
    "plt.ylabel(\"Phase offset [deg.]\")\n",
    "plt.title(\"Phase offset between DAC_A and DAC_B\");"
   ]
  },
  {
   "cell_type": "code",
   "execution_count": null,
   "metadata": {},
   "outputs": [],
   "source": [
    "# to save the data\n",
    "with open('pickles/calibrate_phase.pickle', 'wb') as handle:\n",
    "    pickle.dump(delta_phis, handle, protocol=pickle.HIGHEST_PROTOCOL)"
   ]
  }
 ],
 "metadata": {
  "kernelspec": {
   "display_name": ".venv",
   "language": "python",
   "name": "python3"
  },
  "language_info": {
   "codemirror_mode": {
    "name": "ipython",
    "version": 3
   },
   "file_extension": ".py",
   "mimetype": "text/x-python",
   "name": "python",
   "nbconvert_exporter": "python",
   "pygments_lexer": "ipython3",
   "version": "3.9.13"
  }
 },
 "nbformat": 4,
 "nbformat_minor": 2
}
