{
 "cells": [
  {
   "cell_type": "markdown",
   "id": "9eebb9de",
   "metadata": {},
   "source": [
    "# NOTE: Requires specific version of firmware"
   ]
  },
  {
   "cell_type": "code",
   "execution_count": 1,
   "id": "c666fd1c",
   "metadata": {},
   "outputs": [
    {
     "name": "stdout",
     "output_type": "stream",
     "text": [
      "%pylab is deprecated, use %matplotlib inline and import the required libraries.\n",
      "Populating the interactive namespace from numpy and matplotlib\n"
     ]
    }
   ],
   "source": [
    "# Import libraries\n",
    "%load_ext autoreload\n",
    "%autoreload 2\n",
    "\n",
    "%pylab inline"
   ]
  },
  {
   "cell_type": "code",
   "execution_count": 2,
   "id": "d22482d2",
   "metadata": {},
   "outputs": [
    {
     "name": "stdout",
     "output_type": "stream",
     "text": [
      "\n",
      "QICK configuration:\n",
      "\n",
      "\tBoard: RFSoC4x2\n",
      "\n",
      "\tSoftware version: 0.2.267\n",
      "\tFirmware timestamp: Thu Aug 29 17:24:39 2024\n",
      "\n",
      "\tGlobal clocks (MHz): tProcessor 409.600, RF reference 491.520\n",
      "\n",
      "\t2 signal generator channels:\n",
      "\t0:\taxis_signal_gen_v6 - envelope memory 65536 samples (6.667 us)\n",
      "\t\tfs=9830.400 MHz, fabric=614.400 MHz, 32-bit DDS, range=9830.400 MHz\n",
      "\t\tDAC tile 0, blk 0 is DAC_B\n",
      "\t1:\taxis_signal_gen_v6 - envelope memory 65536 samples (6.667 us)\n",
      "\t\tfs=9830.400 MHz, fabric=614.400 MHz, 32-bit DDS, range=9830.400 MHz\n",
      "\t\tDAC tile 2, blk 0 is DAC_A\n",
      "\n",
      "\t2 readout channels:\n",
      "\t0:\taxis_readout_v2 - configured by PYNQ\n",
      "\t\tfs=4423.680 MHz, decimated=552.960 MHz, 32-bit DDS, range=4423.680 MHz\n",
      "\t\tmaxlen 16384 accumulated, 1024 decimated (1.852 us)\n",
      "\t\ttriggered by output 7, pin 14, feedback to tProc input 0\n",
      "\t\tADC tile 0, blk 0 is ADC_D\n",
      "\t1:\taxis_readout_v2 - configured by PYNQ\n",
      "\t\tfs=4423.680 MHz, decimated=552.960 MHz, 32-bit DDS, range=4423.680 MHz\n",
      "\t\tmaxlen 16384 accumulated, 1024 decimated (1.852 us)\n",
      "\t\ttriggered by output 7, pin 15, feedback to tProc input 1\n",
      "\t\tADC tile 0, blk 1 is ADC_C\n",
      "\n",
      "\t8 digital output pins:\n",
      "\t0:\tPMOD0_0\n",
      "\t1:\tPMOD0_1\n",
      "\t2:\tPMOD0_2\n",
      "\t3:\tPMOD0_3\n",
      "\t4:\tPMOD0_4\n",
      "\t5:\tPMOD0_5\n",
      "\t6:\tPMOD0_6\n",
      "\t7:\tPMOD0_7\n",
      "\n",
      "\ttProc axis_tproc64x32_x8 (\"v1\") rev 4: program memory 1024 words, data memory 1024 words\n",
      "\t\texternal start pin: PMOD1_0\n",
      "\n",
      "\tDDR4 memory buffer: 1073741824 samples (1.942 sec), 256 samples/transfer\n",
      "\t\twired to readouts [0, 1]\n",
      "\n",
      "\tMR buffer: 8192 samples (1.852 us), wired to readouts [0, 1]\n"
     ]
    }
   ],
   "source": [
    "# Board libraries\n",
    "from qick import *\n",
    "import Pyro4\n",
    "\n",
    "# Pyro communicates with board\n",
    "Pyro4.config.SERIALIZER = \"pickle\"\n",
    "Pyro4.config.PICKLE_PROTOCOL_VERSION=4\n",
    "\n",
    "# Static IP proxy\n",
    "ns_host = \"172.24.106.21\" # <-- SET IP ADDRESS\n",
    "ns_port = 8888\n",
    "proxy_name = \"myqick\"\n",
    "\n",
    "# QICK object\n",
    "ns = Pyro4.locateNS(host=ns_host, port=ns_port)\n",
    "soc = Pyro4.Proxy(ns.lookup(proxy_name))\n",
    "soccfg = QickConfig(soc.get_cfg())\n",
    "print(soccfg)"
   ]
  },
  {
   "cell_type": "code",
   "execution_count": 9,
   "id": "74899799",
   "metadata": {},
   "outputs": [
    {
     "name": "stdout",
     "output_type": "stream",
     "text": [
      "Values read from tproc input: [254]\n"
     ]
    }
   ],
   "source": [
    "prog = QickProgram(soccfg)\n",
    "\n",
    "prog.regwi(0, 2, 253) # Write 253 to p0,r2\n",
    "\n",
    "prog.trigger(pins=[0,1], width=15) # Produce digital pulse\n",
    "\n",
    "prog.wait_all()\n",
    "\n",
    "prog.read(2, 0, \"lower\", 1) # Read digital input and write to register p0,r1\n",
    "prog.memwi(0, 1, 123) # Write value to memory\n",
    "\n",
    "prog.condj(0, 1, '<', 2, \"JUMP_LOC\") # Compare digital input value to 253\n",
    "prog.trigger(pins=[0,1]) # Conditionally trigger a second pulse\n",
    "prog.label(\"JUMP_LOC\")\n",
    "\n",
    "prog.end()\n",
    "\n",
    "prog.config_all(soc) # Load the assembly onto the board\n",
    "soc.tproc.start() # Start tproc program execution\n",
    "\n",
    "result = [np.int32(soc.tproc.single_read(addr=123))]\n",
    "print(\"Values read from tproc input:\", result)"
   ]
  },
  {
   "cell_type": "code",
   "execution_count": 161,
   "id": "bb2a3163",
   "metadata": {},
   "outputs": [
    {
     "name": "stdout",
     "output_type": "stream",
     "text": [
      "\n",
      "// Program\n",
      "\n",
      "          regwi 0, $2, 253;\n",
      "          regwi 0, $16, 3;                      //out = 0b0000000000000011\n",
      "          seti 7, 0, $16, 0;                    //ch =0 out = $16 @t = 0\n",
      "          seti 7, 0, $0, 15;                    //ch =0 out = 0 @t = 0\n",
      "          waiti 0, 0;\n",
      "          read 2, 0, lower $1;\n",
      "          memwi 0, $1, 123;\n",
      "          condj 0, $1, <, $2, @JUMP_LOC;\n",
      "          regwi 0, $16, 3;                      //out = 0b0000000000000011\n",
      "          seti 7, 0, $16, 0;                    //ch =0 out = $16 @t = 0\n",
      "          seti 7, 0, $0, 10;                    //ch =0 out = 0 @t = 0\n",
      "JUMP_LOC: end ;\n"
     ]
    }
   ],
   "source": [
    "print(prog)"
   ]
  }
 ],
 "metadata": {
  "kernelspec": {
   "display_name": "Python 3",
   "language": "python",
   "name": "python3"
  },
  "language_info": {
   "codemirror_mode": {
    "name": "ipython",
    "version": 3
   },
   "file_extension": ".py",
   "mimetype": "text/x-python",
   "name": "python",
   "nbconvert_exporter": "python",
   "pygments_lexer": "ipython3",
   "version": "3.9.13"
  }
 },
 "nbformat": 4,
 "nbformat_minor": 5
}
