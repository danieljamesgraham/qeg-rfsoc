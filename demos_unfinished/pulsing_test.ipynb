{
 "cells": [
  {
   "cell_type": "markdown",
   "metadata": {},
   "source": [
    "# Short Pulse Demonstration Notebook\n",
    "\n",
    "## Aims of Notebook\n",
    "\n",
    "- Mix and match long and very short pulses\n",
    "\n",
    "## To Do\n",
    "\n",
    "- Make notebook"
   ]
  },
  {
   "cell_type": "code",
   "execution_count": 322,
   "metadata": {},
   "outputs": [
    {
     "name": "stdout",
     "output_type": "stream",
     "text": [
      "%pylab is deprecated, use %matplotlib inline and import the required libraries.\n",
      "Populating the interactive namespace from numpy and matplotlib\n"
     ]
    }
   ],
   "source": [
    "# Import the QICK drivers and auxiliary libraries\n",
    "from qick import *\n",
    "%pylab inline\n",
    "import numpy as np"
   ]
  },
  {
   "cell_type": "code",
   "execution_count": 323,
   "metadata": {},
   "outputs": [
    {
     "name": "stdout",
     "output_type": "stream",
     "text": [
      "\n",
      "QICK configuration:\n",
      "\n",
      "\tBoard: RFSoC4x2\n",
      "\n",
      "\tSoftware version: 0.2.267\n",
      "\tFirmware timestamp: Wed Sep  6 18:49:29 2023\n",
      "\n",
      "\tGlobal clocks (MHz): tProcessor 409.600, RF reference 491.520\n",
      "\n",
      "\t2 signal generator channels:\n",
      "\t0:\taxis_signal_gen_v6 - envelope memory 65536 samples (6.667 us)\n",
      "\t\tfs=9830.400 MHz, fabric=614.400 MHz, 32-bit DDS, range=9830.400 MHz\n",
      "\t\tDAC tile 0, blk 0 is DAC_B\n",
      "\t1:\taxis_signal_gen_v6 - envelope memory 65536 samples (6.667 us)\n",
      "\t\tfs=9830.400 MHz, fabric=614.400 MHz, 32-bit DDS, range=9830.400 MHz\n",
      "\t\tDAC tile 2, blk 0 is DAC_A\n",
      "\n",
      "\t2 readout channels:\n",
      "\t0:\taxis_readout_v2 - configured by PYNQ\n",
      "\t\tfs=4423.680 MHz, decimated=552.960 MHz, 32-bit DDS, range=4423.680 MHz\n",
      "\t\tmaxlen 16384 accumulated, 1024 decimated (1.852 us)\n",
      "\t\ttriggered by output 7, pin 14, feedback to tProc input 0\n",
      "\t\tADC tile 0, blk 0 is ADC_D\n",
      "\t1:\taxis_readout_v2 - configured by PYNQ\n",
      "\t\tfs=4423.680 MHz, decimated=552.960 MHz, 32-bit DDS, range=4423.680 MHz\n",
      "\t\tmaxlen 16384 accumulated, 1024 decimated (1.852 us)\n",
      "\t\ttriggered by output 7, pin 15, feedback to tProc input 1\n",
      "\t\tADC tile 0, blk 1 is ADC_C\n",
      "\n",
      "\t8 digital output pins:\n",
      "\t0:\tPMOD0_0\n",
      "\t1:\tPMOD0_1\n",
      "\t2:\tPMOD0_2\n",
      "\t3:\tPMOD0_3\n",
      "\t4:\tPMOD0_4\n",
      "\t5:\tPMOD0_5\n",
      "\t6:\tPMOD0_6\n",
      "\t7:\tPMOD0_7\n",
      "\n",
      "\ttProc axis_tproc64x32_x8 (\"v1\") rev 4: program memory 1024 words, data memory 1024 words\n",
      "\t\texternal start pin: PMOD1_0\n",
      "\n",
      "\tDDR4 memory buffer: 1073741824 samples (1.942 sec), 256 samples/transfer\n",
      "\t\twired to readouts [0, 1]\n",
      "\n",
      "\tMR buffer: 8192 samples (1.852 us), wired to readouts [0, 1]\n"
     ]
    }
   ],
   "source": [
    "# Pyro to communicate with board\n",
    "import Pyro4\n",
    "from qick import QickConfig\n",
    "Pyro4.config.SERIALIZER = \"pickle\"\n",
    "Pyro4.config.PICKLE_PROTOCOL_VERSION=4\n",
    "\n",
    "# Static IP proxy\n",
    "ns_host = \"192.168.2.99\" # <-- SET IP ADDRESS\n",
    "ns_port = 8888\n",
    "proxy_name = \"myqick\"\n",
    "\n",
    "# QICK object\n",
    "ns = Pyro4.locateNS(host=ns_host, port=ns_port)\n",
    "soc = Pyro4.Proxy(ns.lookup(proxy_name))\n",
    "soccfg = QickConfig(soc.get_cfg())\n",
    "print(soccfg)"
   ]
  },
  {
   "cell_type": "code",
   "execution_count": 4,
   "metadata": {},
   "outputs": [],
   "source": [
    "# GEN_CH 1 is DAC_A and GEN_CH 0 is DAC_B\n",
    "GEN_CH = 1\n",
    "# RO_CH 1 is ADC_C and RO_CH 0 is ADC_D\n",
    "RO_CH = 1"
   ]
  },
  {
   "cell_type": "code",
   "execution_count": 314,
   "metadata": {},
   "outputs": [],
   "source": [
    "class LoopbackProgram(AveragerProgram):\n",
    "    def initialize(self):\n",
    "        cfg=self.cfg   \n",
    "        res_ch = cfg[\"res_ch\"]\n",
    "\n",
    "        # set the nyquist zone\n",
    "        self.declare_gen(ch=cfg[\"res_ch\"], nqz=1)\n",
    "        \n",
    "        # configure the readout lengths and downconversion frequencies (ensuring it is an available DAC frequency)\n",
    "        for ch in cfg[\"ro_chs\"]:\n",
    "            self.declare_readout(ch=ch, length=self.cfg[\"readout_length\"],\n",
    "                                 freq=self.cfg[\"pulse_freq\"], gen_ch=cfg[\"res_ch\"])\n",
    "\n",
    "        # convert frequency to DAC frequency (ensuring it is an available ADC frequency)\n",
    "        phase = self.deg2reg(cfg[\"res_phase\"], gen_ch=res_ch)\n",
    "        gain = cfg[\"pulse_gain\"]\n",
    "        self.default_pulse_registers(ch=res_ch, phase=phase, gain=gain)\n",
    "\n",
    "        # idata, qdata = [], []\n",
    "        # for i in range(96):\n",
    "        #     x_vals = np.linspace(0, 2 * np.pi, 100)\n",
    "        #     sinusoid = 32767 * np.sin(x_vals)\n",
    "        #     idata.extend(sinusoid)\n",
    "        #     qdata.extend(sinusoid)\n",
    "        idata0 = np.full(shape=9600, fill_value=16000, dtype=int)\n",
    "        qdata0 = np.full(shape=9600, fill_value=16000, dtype=int)\n",
    "\n",
    "        for i in range(1000, 1050):\n",
    "            idata0[i] = 0\n",
    "            qdata0[i] = 0\n",
    "        \n",
    "        idata1 = np.full(shape=9600, fill_value=24000, dtype=int)\n",
    "        qdata1 = np.full(shape=9600, fill_value=24000, dtype=int)\n",
    "        \n",
    "        self.add_envelope(ch=res_ch, name=\"measure\", idata=idata0, qdata=qdata0)\n",
    "        self.add_envelope(ch=res_ch, name=\"test\", idata=idata1, qdata=qdata1)\n",
    "        \n",
    "        self.synci(200)  # give processor some time to configure pulses\n",
    "    \n",
    "    def body(self):\n",
    "        freq = self.freq2reg(self.cfg[\"pulse_freq\"],gen_ch=self.cfg[\"res_ch\"], ro_ch=self.cfg[\"ro_chs\"][0])\n",
    "\n",
    "        self.set_pulse_registers(ch=self.cfg[\"res_ch\"], style=\"arb\", waveform=\"measure\", freq=freq)\n",
    "        self.pulse(ch=self.cfg[\"res_ch\"])\n",
    "\n",
    "        self.set_pulse_registers(ch=self.cfg[\"res_ch\"], style=\"const\", length=100, freq=freq)\n",
    "        self.pulse(ch=self.cfg[\"res_ch\"])\n",
    "\n",
    "        self.set_pulse_registers(ch=self.cfg[\"res_ch\"], style=\"arb\", waveform=\"test\", freq=freq)\n",
    "        self.pulse(ch=self.cfg[\"res_ch\"])\n",
    "\n",
    "        # fire the pulse\n",
    "        # trigger all declared ADCs\n",
    "        # pulse PMOD0_0 for a scope trigger\n",
    "        # pause the tProc until readout is done\n",
    "        # increment the time counter to give some time before the next measurement\n",
    "        # (the syncdelay also lets the tProc get back ahead of the clock)\n",
    "        # self.measure(pulse_ch=self.cfg[\"res_ch\"], \n",
    "        #              adcs=self.ro_chs,\n",
    "        #              pins=[0], \n",
    "        #              adc_trig_offset=self.cfg[\"adc_trig_offset\"],\n",
    "        #              wait=True,\n",
    "        #              syncdelay=self.us2cycles(self.cfg[\"relax_delay\"]))\n",
    "\n",
    "        \n",
    "        # equivalent to the following:\n",
    "#         self.trigger(adcs=self.ro_chs,\n",
    "#                      pins=[0], \n",
    "#                      adc_trig_offset=self.cfg[\"adc_trig_offset\"])\n",
    "#         self.pulse(ch=self.cfg[\"res_ch\"])\n",
    "#         self.wait_all()\n",
    "#         self.sync_all(self.us2cycles(self.cfg[\"relax_delay\"]))"
   ]
  },
  {
   "cell_type": "code",
   "execution_count": 312,
   "metadata": {},
   "outputs": [],
   "source": [
    "config={\"res_ch\":GEN_CH, # --Fixed\n",
    "        \"ro_chs\":[RO_CH], # --Fixed\n",
    "        \"reps\":1, # --Fixed\n",
    "        \"relax_delay\":1.0, # --us\n",
    "        \"res_phase\":0, # --degrees\n",
    "        \"pulse_style\": \"arb\", # --Fixed\n",
    "        \n",
    "        \"length\":100, # [Clock ticks]\n",
    "        # Try varying length from 10-100 clock ticks\n",
    "\n",
    "        \"sigma\": 30,\n",
    "        \n",
    "        \"readout_length\":100, # [Clock ticks]\n",
    "        # Try varying readout_length from 50-1000 clock ticks\n",
    "\n",
    "        \"pulse_gain\":30000, # [DAC units]\n",
    "        # Try varying pulse_gain from 500 to 30000 DAC units\n",
    "\n",
    "        \"pulse_freq\": 50, # [MHz]\n",
    "        # In this program the signal is up and downconverted digitally so you won't see any frequency\n",
    "        # components in the I/Q traces below. But since the signal gain depends on frequency, \n",
    "        # if you lower pulse_freq you will see an increased gain.\n",
    "\n",
    "        \"adc_trig_offset\": 100, # [Clock ticks]\n",
    "        # Try varying adc_trig_offset from 100 to 220 clock ticks\n",
    "\n",
    "        \"soft_avgs\":1\n",
    "        # Try varying soft_avgs from 1 to 200 averages\n",
    "\n",
    "       }"
   ]
  },
  {
   "cell_type": "code",
   "execution_count": 320,
   "metadata": {},
   "outputs": [
    {
     "ename": "ValueError",
     "evalue": "cannot reshape array of size 0 into shape (0,newaxis,2)",
     "output_type": "error",
     "traceback": [
      "\u001b[0;31m---------------------------------------------------------------------------\u001b[0m",
      "\u001b[0;31mValueError\u001b[0m                                Traceback (most recent call last)",
      "Cell \u001b[0;32mIn[320], line 2\u001b[0m\n\u001b[1;32m      1\u001b[0m prog \u001b[38;5;241m=\u001b[39mLoopbackProgram(soccfg, config)\n\u001b[0;32m----> 2\u001b[0m iq_list \u001b[38;5;241m=\u001b[39m \u001b[43mprog\u001b[49m\u001b[38;5;241;43m.\u001b[39;49m\u001b[43macquire_decimated\u001b[49m\u001b[43m(\u001b[49m\u001b[43msoc\u001b[49m\u001b[43m,\u001b[49m\u001b[43m \u001b[49m\u001b[43mprogress\u001b[49m\u001b[38;5;241;43m=\u001b[39;49m\u001b[38;5;28;43;01mFalse\u001b[39;49;00m\u001b[43m)\u001b[49m\n",
      "File \u001b[0;32m~/qeg-rfsoc/.venv/lib64/python3.9/site-packages/qick/averager_program.py:162\u001b[0m, in \u001b[0;36mAveragerProgram.acquire_decimated\u001b[0;34m(self, soc, load_pulses, readouts_per_experiment, start_src, progress, remove_offset)\u001b[0m\n\u001b[1;32m    160\u001b[0m \u001b[38;5;28;01mif\u001b[39;00m readouts_per_experiment \u001b[38;5;129;01mis\u001b[39;00m \u001b[38;5;129;01mnot\u001b[39;00m \u001b[38;5;28;01mNone\u001b[39;00m:\n\u001b[1;32m    161\u001b[0m     \u001b[38;5;28mself\u001b[39m\u001b[38;5;241m.\u001b[39mset_reads_per_shot(readouts_per_experiment)\n\u001b[0;32m--> 162\u001b[0m buf \u001b[38;5;241m=\u001b[39m \u001b[38;5;28;43msuper\u001b[39;49m\u001b[43m(\u001b[49m\u001b[43m)\u001b[49m\u001b[38;5;241;43m.\u001b[39;49m\u001b[43macquire_decimated\u001b[49m\u001b[43m(\u001b[49m\u001b[43msoc\u001b[49m\u001b[43m,\u001b[49m\u001b[43m \u001b[49m\u001b[43msoft_avgs\u001b[49m\u001b[38;5;241;43m=\u001b[39;49m\u001b[38;5;28;43mself\u001b[39;49m\u001b[38;5;241;43m.\u001b[39;49m\u001b[43msoft_avgs\u001b[49m\u001b[43m,\u001b[49m\u001b[43m \u001b[49m\u001b[43mload_pulses\u001b[49m\u001b[38;5;241;43m=\u001b[39;49m\u001b[43mload_pulses\u001b[49m\u001b[43m,\u001b[49m\u001b[43m \u001b[49m\u001b[43mstart_src\u001b[49m\u001b[38;5;241;43m=\u001b[39;49m\u001b[43mstart_src\u001b[49m\u001b[43m,\u001b[49m\u001b[43m \u001b[49m\u001b[43mprogress\u001b[49m\u001b[38;5;241;43m=\u001b[39;49m\u001b[43mprogress\u001b[49m\u001b[43m,\u001b[49m\u001b[43m \u001b[49m\u001b[43mremove_offset\u001b[49m\u001b[38;5;241;43m=\u001b[39;49m\u001b[43mremove_offset\u001b[49m\u001b[43m)\u001b[49m\n\u001b[1;32m    163\u001b[0m \u001b[38;5;66;03m# move the I/Q axis from last to second-last\u001b[39;00m\n\u001b[1;32m    164\u001b[0m \u001b[38;5;28;01mreturn\u001b[39;00m np\u001b[38;5;241m.\u001b[39mmoveaxis(buf, \u001b[38;5;241m-\u001b[39m\u001b[38;5;241m1\u001b[39m, \u001b[38;5;241m-\u001b[39m\u001b[38;5;241m2\u001b[39m)\n",
      "File \u001b[0;32m~/qeg-rfsoc/.venv/lib64/python3.9/site-packages/qick/qick_asm.py:1951\u001b[0m, in \u001b[0;36mAcquireMixin.acquire_decimated\u001b[0;34m(self, soc, soft_avgs, load_pulses, start_src, progress, remove_offset)\u001b[0m\n\u001b[1;32m   1948\u001b[0m \u001b[38;5;28;01melse\u001b[39;00m:\n\u001b[1;32m   1949\u001b[0m     \u001b[38;5;66;03m# split the data into the individual reps\u001b[39;00m\n\u001b[1;32m   1950\u001b[0m     \u001b[38;5;28;01mif\u001b[39;00m onetrig \u001b[38;5;129;01mor\u001b[39;00m total_count\u001b[38;5;241m==\u001b[39m\u001b[38;5;241m1\u001b[39m:\n\u001b[0;32m-> 1951\u001b[0m         d_reshaped \u001b[38;5;241m=\u001b[39m \u001b[43md_avg\u001b[49m\u001b[38;5;241;43m.\u001b[39;49m\u001b[43mreshape\u001b[49m\u001b[43m(\u001b[49m\u001b[43mtotal_count\u001b[49m\u001b[38;5;241;43m*\u001b[39;49m\u001b[43mro\u001b[49m\u001b[43m[\u001b[49m\u001b[38;5;124;43m'\u001b[39;49m\u001b[38;5;124;43mtrigs\u001b[39;49m\u001b[38;5;124;43m'\u001b[39;49m\u001b[43m]\u001b[49m\u001b[43m,\u001b[49m\u001b[43m \u001b[49m\u001b[38;5;241;43m-\u001b[39;49m\u001b[38;5;241;43m1\u001b[39;49m\u001b[43m,\u001b[49m\u001b[43m \u001b[49m\u001b[38;5;241;43m2\u001b[39;49m\u001b[43m)\u001b[49m\n\u001b[1;32m   1952\u001b[0m     \u001b[38;5;28;01melse\u001b[39;00m:\n\u001b[1;32m   1953\u001b[0m         d_reshaped \u001b[38;5;241m=\u001b[39m d_avg\u001b[38;5;241m.\u001b[39mreshape(total_count, ro[\u001b[38;5;124m'\u001b[39m\u001b[38;5;124mtrigs\u001b[39m\u001b[38;5;124m'\u001b[39m], \u001b[38;5;241m-\u001b[39m\u001b[38;5;241m1\u001b[39m, \u001b[38;5;241m2\u001b[39m)\n",
      "\u001b[0;31mValueError\u001b[0m: cannot reshape array of size 0 into shape (0,newaxis,2)"
     ]
    }
   ],
   "source": [
    "prog =LoopbackProgram(soccfg, config)\n",
    "iq_list = prog.acquire_decimated(soc, progress=False)"
   ]
  },
  {
   "cell_type": "code",
   "execution_count": 14,
   "metadata": {},
   "outputs": [],
   "source": [
    "# from scipy.signal import welch\n",
    "# complex_iq = iq.dot([1,1j])\n",
    "\n",
    "# # fs_adc = soc['readouts'][RO_CH]['fs']\n",
    "# fs_adc = 4423.68\n",
    "\n",
    "# fft_freqs, psd = welch(iq[:,0], fs_adc, return_onesided=True, detrend=False, nperseg=512)\n",
    "# plt.semilogy(fft_freqs, psd)\n",
    "# plt.xlabel(\"absolute frequency [MHz]\")\n",
    "# plt.ylabel(\"power [a.u.]\");"
   ]
  }
 ],
 "metadata": {
  "kernelspec": {
   "display_name": ".qick_venv",
   "language": "python",
   "name": "python3"
  },
  "language_info": {
   "codemirror_mode": {
    "name": "ipython",
    "version": 3
   },
   "file_extension": ".py",
   "mimetype": "text/x-python",
   "name": "python",
   "nbconvert_exporter": "python",
   "pygments_lexer": "ipython3",
   "version": "3.9.19"
  }
 },
 "nbformat": 4,
 "nbformat_minor": 2
}
