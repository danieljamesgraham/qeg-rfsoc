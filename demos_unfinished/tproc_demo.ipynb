{
 "cells": [
  {
   "cell_type": "markdown",
   "metadata": {},
   "source": [
    "# Tproc Demonstration Notebook\n",
    "\n",
    "## Aims of Notebook\n",
    "\n",
    "- Utilise tproc instructions to perform mathematical operations\n",
    "\n",
    "## To Do\n",
    "\n",
    "- Create notebook"
   ]
  }
 ],
 "metadata": {
  "language_info": {
   "name": "python"
  }
 },
 "nbformat": 4,
 "nbformat_minor": 2
}
