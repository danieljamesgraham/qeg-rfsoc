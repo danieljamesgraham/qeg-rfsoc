{
 "cells": [
  {
   "cell_type": "markdown",
   "id": "1be17ad7",
   "metadata": {},
   "source": [
    "# Conditional Logic Demonstration Notebook\n",
    "\n",
    "## Aims of Notebook\n",
    "\n",
    "- Read accumulated I and Q data from a readout buffer and conditionally trigger a different pulse if I exceeds some threshold.\n",
    "\n",
    "## To Do\n",
    "\n",
    "- Remove AveragerProgram\n",
    "- See if time between readout and second pulse may be reduced"
   ]
  },
  {
   "cell_type": "code",
   "execution_count": 1,
   "id": "c666fd1c",
   "metadata": {},
   "outputs": [
    {
     "name": "stdout",
     "output_type": "stream",
     "text": [
      "%pylab is deprecated, use %matplotlib inline and import the required libraries.\n",
      "Populating the interactive namespace from numpy and matplotlib\n"
     ]
    }
   ],
   "source": [
    "# Import libraries\n",
    "%load_ext autoreload\n",
    "%autoreload 2\n",
    "\n",
    "%pylab inline"
   ]
  },
  {
   "cell_type": "code",
   "execution_count": 3594,
   "id": "d22482d2",
   "metadata": {},
   "outputs": [
    {
     "name": "stdout",
     "output_type": "stream",
     "text": [
      "\n",
      "QICK configuration:\n",
      "\n",
      "\tBoard: RFSoC4x2\n",
      "\n",
      "\tSoftware version: 0.2.267\n",
      "\tFirmware timestamp: Wed Sep  6 18:49:29 2023\n",
      "\n",
      "\tGlobal clocks (MHz): tProcessor 409.600, RF reference 491.520\n",
      "\n",
      "\t2 signal generator channels:\n",
      "\t0:\taxis_signal_gen_v6 - envelope memory 65536 samples (6.667 us)\n",
      "\t\tfs=9830.400 MHz, fabric=614.400 MHz, 32-bit DDS, range=9830.400 MHz\n",
      "\t\tDAC tile 0, blk 0 is DAC_B\n",
      "\t1:\taxis_signal_gen_v6 - envelope memory 65536 samples (6.667 us)\n",
      "\t\tfs=9830.400 MHz, fabric=614.400 MHz, 32-bit DDS, range=9830.400 MHz\n",
      "\t\tDAC tile 2, blk 0 is DAC_A\n",
      "\n",
      "\t2 readout channels:\n",
      "\t0:\taxis_readout_v2 - configured by PYNQ\n",
      "\t\tfs=4423.680 MHz, decimated=552.960 MHz, 32-bit DDS, range=4423.680 MHz\n",
      "\t\tmaxlen 16384 accumulated, 1024 decimated (1.852 us)\n",
      "\t\ttriggered by output 7, pin 14, feedback to tProc input 0\n",
      "\t\tADC tile 0, blk 0 is ADC_D\n",
      "\t1:\taxis_readout_v2 - configured by PYNQ\n",
      "\t\tfs=4423.680 MHz, decimated=552.960 MHz, 32-bit DDS, range=4423.680 MHz\n",
      "\t\tmaxlen 16384 accumulated, 1024 decimated (1.852 us)\n",
      "\t\ttriggered by output 7, pin 15, feedback to tProc input 1\n",
      "\t\tADC tile 0, blk 1 is ADC_C\n",
      "\n",
      "\t8 digital output pins:\n",
      "\t0:\tPMOD0_0\n",
      "\t1:\tPMOD0_1\n",
      "\t2:\tPMOD0_2\n",
      "\t3:\tPMOD0_3\n",
      "\t4:\tPMOD0_4\n",
      "\t5:\tPMOD0_5\n",
      "\t6:\tPMOD0_6\n",
      "\t7:\tPMOD0_7\n",
      "\n",
      "\ttProc axis_tproc64x32_x8 (\"v1\") rev 4: program memory 1024 words, data memory 1024 words\n",
      "\t\texternal start pin: PMOD1_0\n",
      "\n",
      "\tDDR4 memory buffer: 1073741824 samples (1.942 sec), 256 samples/transfer\n",
      "\t\twired to readouts [0, 1]\n",
      "\n",
      "\tMR buffer: 8192 samples (1.852 us), wired to readouts [0, 1]\n"
     ]
    }
   ],
   "source": [
    "# Board libraries\n",
    "from qick import *\n",
    "import Pyro4\n",
    "\n",
    "# Pyro communicates with board\n",
    "Pyro4.config.SERIALIZER = \"pickle\"\n",
    "Pyro4.config.PICKLE_PROTOCOL_VERSION=4\n",
    "\n",
    "# Static IP proxy\n",
    "ns_host = \"192.168.2.99\" # <-- SET IP ADDRESS\n",
    "ns_port = 8888\n",
    "proxy_name = \"myqick\"\n",
    "\n",
    "# QICK object\n",
    "ns = Pyro4.locateNS(host=ns_host, port=ns_port)\n",
    "soc = Pyro4.Proxy(ns.lookup(proxy_name))\n",
    "soccfg = QickConfig(soc.get_cfg())\n",
    "print(soccfg)"
   ]
  },
  {
   "cell_type": "code",
   "execution_count": 3591,
   "id": "216aa48c",
   "metadata": {},
   "outputs": [],
   "source": [
    "class ConditionalPulse(AveragerProgram):\n",
    "    def __init__(self,soccfg,cfg):\n",
    "        super().__init__(soccfg,cfg)\n",
    "\n",
    "    def initialize(self):\n",
    "        freq_mhz = 200\n",
    "        freq = self.freq2reg(freq_mhz, gen_ch=1, ro_ch=1)\n",
    "\n",
    "        length = 0.05\n",
    "\n",
    "        for ch in range(2):\n",
    "            self.declare_gen(ch=ch, nqz=1)\n",
    "  \n",
    "        gen_length = self.us2cycles(length, gen_ch=1)\n",
    "        phase_deg = 276.65\n",
    "        phase = prog.deg2reg(phase_deg, gen_ch=0)\n",
    "        for ch in range(2):\n",
    "            self.set_pulse_registers(ch=ch, freq=freq, style=\"const\", phase=phase, \n",
    "                                 gain=20000, length=gen_length)\n",
    "\n",
    "\n",
    "        ro_phase = self.deg2reg(262.04402341090645, ro_ch=1, gen_ch=None)\n",
    "        # print(ro_phase)\n",
    "        ro_length = self.us2cycles(length-0.001, ro_ch=1)\n",
    "        self.declare_readout(ch=1, freq=freq_mhz, length=180, phase=ro_phase ,gen_ch=1)\n",
    "\n",
    "        # self.synci(100) \n",
    "    \n",
    "    def body(self):\n",
    "        self.pulse(ch=1, t=0) \n",
    "        self.pulse(ch=0, t=0) \n",
    "        self.trigger(adcs=[1], pins=[0], adc_trig_offset=0) \n",
    "        # self.trigger(adcs=[1]) \n",
    "        print(\"Timestamps\")\n",
    "        print(self.get_max_timestamp(gens=False, ros=True))\n",
    "        print(self.get_max_timestamp(gens=True, ros=False))\n",
    "        self.pulse(ch=0, t=self.get_max_timestamp(gens=False, ros=True))\n",
    "        \n",
    "        self.wait_all(80) #pause execution of commands until the end of the readout window, plus N cycles\n",
    "        self.sync_all()\n",
    "        self.trigger(pins=[0])\n",
    "        self.pulse(ch=0)\n",
    "        # self.sync_all() #increment the time of subsequent pulse and trigger commands to the end of the last pulse, plus 500\n",
    "\n",
    "        self.read(1, 0, \"lower\", 1) # read input 0's accumulated I into page 0, reg 1 (gen_ch, p, \"upper\"/\"lower\", r)\n",
    "        # self.read(1, 0, \"upper\", 2) # read input 0's accumulated Q into page 0, reg 2\n",
    "        self.memwi(0, 1, 123)\n",
    "        # self.memwi(0, 2, 124)\n",
    "        \n",
    "        # self.condj(0, 1, '<', 0, \"JUMP_LOC\")\n",
    "        # self.pulse(ch=0)\n",
    "        # self.label(\"JUMP_LOC\")\n",
    "\n",
    "        # the extra time in wait_all needs to be at least ~30, otherwise you will read a stale value corresponding to the previous readout\n",
    "        # try a smaller value and you will see what I mean\n",
    "        # the extra time here is optional? do whatever you need to get the timeline you want\n",
    "        # if you are only running one rep and there are no more triggers or pulses, you don't even need a sync\n",
    "\n",
    "        # it's important to only use registers that are not used elsewhere\n",
    "        # some registers are used for averagerprogram/raveragerprogram counters, and each generator uses some registers for pulse parameters\n",
    "        # we don't currently have a nice way to check which registers are unused (this is issue #19)\n",
    "        # for now: page 0 registers 1-12 are not used"
   ]
  },
  {
   "cell_type": "code",
   "execution_count": 3607,
   "id": "923873e7",
   "metadata": {},
   "outputs": [
    {
     "name": "stdout",
     "output_type": "stream",
     "text": [
      "Timestamps\n",
      "133.33333333333331\n",
      "20.666666666666668\n",
      "I and Q values read from tproc input: [-4299, 1486]\n",
      "sum of I and Q in decimated buffer: [-4299.0, 20981.0]\n",
      "102.45574670334732\n",
      "\n",
      "// Program\n",
      "\n",
      "        regwi 0, $22, 87381333;                 //freq = 87381333\n",
      "        regwi 0, $23, 825140765;                //phase = 3300563062\n",
      "        bitwi 0, $23, $23 << 2;\n",
      "        mathi 0, $23, $23 + 2;\n",
      "        regwi 0, $25, 20000;                    //gain = 20000\n",
      "        regwi 0, $26, 589855;                   //phrst| stdysel | mode | | outsel = 0b01001 | length = 31 \n",
      "        regwi 1, $22, 87381333;                 //freq = 87381333\n",
      "        regwi 1, $23, 825140765;                //phase = 3300563062\n",
      "        bitwi 1, $23, $23 << 2;\n",
      "        mathi 1, $23, $23 + 2;\n",
      "        regwi 1, $25, 20000;                    //gain = 20000\n",
      "        regwi 1, $26, 589855;                   //phrst| stdysel | mode | | outsel = 0b01001 | length = 31 \n",
      "        regwi 0, $15, 0;\n",
      "        regwi 0, $14, 0;\n",
      "LOOP_J: regwi 1, $27, 0;                        //t = 0\n",
      "        set 1, 1, $22, $23, $0, $25, $26, $27;  //ch = 1, pulse @t = $27\n",
      "        regwi 0, $27, 0;                        //t = 0\n",
      "        set 0, 0, $22, $23, $0, $25, $26, $27;  //ch = 0, pulse @t = $27\n",
      "        regwi 0, $16, 32769;                    //out = 0b1000000000000001\n",
      "        seti 7, 0, $16, 0;                      //ch =0 out = $16 @t = 0\n",
      "        seti 7, 0, $0, 10;                      //ch =0 out = 0 @t = 0\n",
      "        regwi 0, $27, 133;                      //t = 133\n",
      "        set 0, 0, $22, $23, $0, $25, $26, $27;  //ch = 0, pulse @t = $27\n",
      "        waiti 0, 213;\n",
      "        synci 153;\n",
      "        regwi 0, $16, 1;                        //out = 0b0000000000000001\n",
      "        seti 7, 0, $16, 0;                      //ch =0 out = $16 @t = 0\n",
      "        seti 7, 0, $0, 10;                      //ch =0 out = 0 @t = 0\n",
      "        regwi 0, $27, 0;                        //t = 0\n",
      "        set 0, 0, $22, $23, $0, $25, $26, $27;  //ch = 0, pulse @t = $27\n",
      "        read 1, 0, lower $1;\n",
      "        memwi 0, $1, 123;\n",
      "        mathi 0, $15, $15 + 1;\n",
      "        memwi 0, $15, 1;\n",
      "        loopnz 0, $14, @LOOP_J;\n",
      "        end ;\n"
     ]
    },
    {
     "data": {
      "image/png": "[encoded data removed]",
      "text/plain": [
       "<Figure size 640x480 with 1 Axes>"
      ]
     },
     "metadata": {},
     "output_type": "display_data"
    }
   ],
   "source": [
    "config={\"reps\":1,\n",
    "        # \"soft_avgs\":10,\n",
    "        }\n",
    "\n",
    "prog =ConditionalPulse(soccfg, config)\n",
    "# soc.reset_gens() # clear any DC or periodic values on generators\n",
    "iq_list = prog.acquire_decimated(soc, load_pulses=True, progress=False)\n",
    "\n",
    "results = [np.int32(soc.tproc.single_read(addr=addr)) for addr in range(123,125)]\n",
    "print(\"I and Q values read from tproc input:\", results)\n",
    "print(\"sum of I and Q in decimated buffer:\", [sum(iq) for iq in iq_list[0]])\n",
    "i = np.average(iq[0])\n",
    "q = np.average(iq[1])\n",
    "print(np.angle(i+1j*q, deg=True)%360)\n",
    "\n",
    "# Plot results.\n",
    "plt.figure(1)\n",
    "iq = iq_list[0]\n",
    "plt.plot(iq[0], label=\"I value, ADC %d\"%(1))\n",
    "plt.plot(iq[1], label=\"Q value, ADC %d\"%(1))\n",
    "plt.plot(np.abs(iq[0]+1j*iq[1]), label=\"mag, ADC %d\"%(1))\n",
    "\n",
    "# print(sum(iq[0]), sum(iq[1]))\n",
    "\n",
    "plt.ylabel(\"a.u.\")\n",
    "plt.xlabel(\"Clock ticks\")\n",
    "plt.legend();\n",
    "# plt.savefig(\"images/Send_recieve_pulse_const.pdf\", dpi=350)\n",
    "\n",
    "print(prog)"
   ]
  },
  {
   "cell_type": "code",
   "execution_count": 3495,
   "id": "80993cfb",
   "metadata": {},
   "outputs": [
    {
     "data": {
      "text/plain": [
       "0.22605613425925924"
      ]
     },
     "execution_count": 3495,
     "metadata": {},
     "output_type": "execute_result"
    }
   ],
   "source": [
    "prog.cycles2us(220) # Number of cycles between ro beginning and non-junk data\n",
    "prog.cycles2us(133)\n",
    "prog.cycles2us(125, ro_ch=1)"
   ]
  },
  {
   "cell_type": "markdown",
   "id": "7b609197",
   "metadata": {},
   "source": [
    "```\n",
    "waiti 0, 35;\n",
    "```\n",
    "```\n",
    "regwi 0, $16, 32768;                    //out = 0b1000000000000000\n",
    "seti 7, 0, $16, 169;                    //ch =0 out = $16 @t = 0\n",
    "seti 7, 0, $0, 179;                     //ch =0 out = 0 @t = 0\n",
    "waiti 0, 224;\n",
    "```"
   ]
  },
  {
   "cell_type": "code",
   "execution_count": 2887,
   "id": "a06ae637",
   "metadata": {},
   "outputs": [
    {
     "name": "stdout",
     "output_type": "stream",
     "text": [
      "0.41259765625\n",
      "0.43701171875\n",
      "0.546875\n",
      "0.22216796875\n"
     ]
    }
   ],
   "source": [
    "print(prog.cycles2us(169))\n",
    "print(prog.cycles2us(179))\n",
    "print(prog.cycles2us(224))\n",
    "print(prog.cycles2us(169-78))"
   ]
  },
  {
   "cell_type": "code",
   "execution_count": 3232,
   "id": "eb6023e0",
   "metadata": {},
   "outputs": [
    {
     "name": "stdout",
     "output_type": "stream",
     "text": [
      "\n",
      "// Program\n",
      "\n",
      "        synci 200;\n",
      "        regwi 0, $15, 0;\n",
      "        regwi 0, $14, 0;\n",
      "LOOP_J: regwi 0, $16, 32768;                    //out = 0b1000000000000000\n",
      "        seti 7, 0, $16, 140;                    //ch =0 out = $16 @t = 0\n",
      "        seti 7, 0, $0, 150;                     //ch =0 out = 0 @t = 0\n",
      "        mathi 0, $15, $15 + 1;\n",
      "        memwi 0, $15, 1;\n",
      "        loopnz 0, $14, @LOOP_J;\n",
      "        end ;\n"
     ]
    }
   ],
   "source": [
    "class ConditionalPulse(AveragerProgram):\n",
    "    def __init__(self,soccfg,cfg):\n",
    "        super().__init__(soccfg,cfg)\n",
    "\n",
    "    def initialize(self):\n",
    "        freq_mhz = 200\n",
    "        freq = self.freq2reg(freq_mhz, gen_ch=1, ro_ch=1)\n",
    "\n",
    "        length = 0.05\n",
    "        gen_length = self.us2cycles(length, gen_ch=1)\n",
    "        ro_length = self.us2cycles(length-0.001, ro_ch=1)\n",
    "\n",
    "        # for ch in range(1):\n",
    "        #     self.declare_gen(ch=ch, nqz=1)\n",
    "  \n",
    "        # for ch in range(1):\n",
    "        #     self.set_pulse_registers(ch=ch, freq=freq, style=\"const\", phase=0, \n",
    "        #                          gain=20000, length=gen_length)\n",
    "\n",
    "\n",
    "        self.declare_readout(ch=1, freq=freq_mhz, length=ro_length,gen_ch=1)\n",
    "\n",
    "        self.synci(200) \n",
    "    \n",
    "    def body(self):\n",
    "        # self.pulse(ch=1, t=100) \n",
    "        # self.pulse(ch=0, t=0) \n",
    "        # self.trigger(pins=[0], t=35, width=self.us2cycles(0.05))\n",
    "        self.trigger(adcs=[1], t=0, adc_trig_offset=132) \n",
    "        \n",
    "        # self.wait_all(35) #pause execution of commands until the end of the readout window, plus N cycles\n",
    "        # self.trigger(pins=[0])\n",
    "        # self.pulse(ch=0)\n",
    "        # self.sync_all() #increment the time of subsequent pulse and trigger commands to the end of the last pulse, plus 500\n",
    "\n",
    "        # self.read(1, 0, \"lower\", 1) # read input 0's accumulated I into page 0, reg 1 (gen_ch, p, \"upper\"/\"lower\", r)\n",
    "        # self.read(1, 0, \"upper\", 2) # read input 0's accumulated Q into page 0, reg 2\n",
    "        # self.memwi(0, 1, 123)\n",
    "        # self.memwi(0, 2, 124)\n",
    "        \n",
    "        # self.condj(0, 1, '<', 0, \"JUMP_LOC\")\n",
    "        # self.label(\"JUMP_LOC\")\n",
    "\n",
    "config={\"reps\":1}\n",
    "prog =ConditionalPulse(soccfg, config)\n",
    "print(prog)\n",
    "iq_list = prog.acquire_decimated(soc, load_pulses=True, progress=False)"
   ]
  },
  {
   "cell_type": "markdown",
   "id": "d9aeea48",
   "metadata": {},
   "source": [
    "read = 2 cycles\n",
    "memwi = 2 cycles\n",
    "condj = 4 cycles\n",
    "\n",
    "wait_all = 124.8 ns\n",
    "\n",
    "// Program\n",
    "\n",
    "LOOP_J: regwi 0, $16, 32768;                    //out = 0b1000000000000000\n",
    "        seti 7, 0, $16, 132;                    //ch =0 out = $16 @t = 0\n",
    "        seti 7, 0, $0, 142;                     //ch =0 out = 0 @t = 0"
   ]
  },
  {
   "cell_type": "code",
   "execution_count": 3208,
   "id": "bb316b63",
   "metadata": {},
   "outputs": [
    {
     "name": "stdout",
     "output_type": "stream",
     "text": [
      "85.44921875\n"
     ]
    }
   ],
   "source": [
    "print(prog.cycles2us(1)*1e3*35)"
   ]
  },
  {
   "cell_type": "code",
   "execution_count": 2375,
   "id": "268877c5",
   "metadata": {},
   "outputs": [
    {
     "data": {
      "application/vnd.jupyter.widget-view+json": {
       "model_id": "be8c82f5587d485e92d92e57ca627eed",
       "version_major": 2,
       "version_minor": 0
      },
      "text/plain": [
       "  0%|          | 0/1 [00:00<?, ?it/s]"
      ]
     },
     "metadata": {},
     "output_type": "display_data"
    },
    {
     "name": "stdout",
     "output_type": "stream",
     "text": [
      "I and Q values read from tproc input: [-14, 0]\n"
     ]
    },
    {
     "ename": "KeyError",
     "evalue": "'readout_length'",
     "output_type": "error",
     "traceback": [
      "\u001b[1;31m---------------------------------------------------------------------------\u001b[0m",
      "\u001b[1;31mKeyError\u001b[0m                                  Traceback (most recent call last)",
      "Cell \u001b[1;32mIn[2375], line 5\u001b[0m\n\u001b[0;32m      3\u001b[0m results \u001b[38;5;241m=\u001b[39m [np\u001b[38;5;241m.\u001b[39mint32(soc\u001b[38;5;241m.\u001b[39mtproc\u001b[38;5;241m.\u001b[39msingle_read(addr\u001b[38;5;241m=\u001b[39maddr)) \u001b[38;5;28;01mfor\u001b[39;00m addr \u001b[38;5;129;01min\u001b[39;00m \u001b[38;5;28mrange\u001b[39m(\u001b[38;5;241m123\u001b[39m,\u001b[38;5;241m125\u001b[39m)]\n\u001b[0;32m      4\u001b[0m \u001b[38;5;28mprint\u001b[39m(\u001b[38;5;124m\"\u001b[39m\u001b[38;5;124mI and Q values read from tproc input:\u001b[39m\u001b[38;5;124m\"\u001b[39m, results)\n\u001b[1;32m----> 5\u001b[0m \u001b[38;5;28mprint\u001b[39m(\u001b[38;5;124m\"\u001b[39m\u001b[38;5;124mI and Q values in accumulated buffer:\u001b[39m\u001b[38;5;124m\"\u001b[39m, [iq\u001b[38;5;241m*\u001b[39mconfig[\u001b[38;5;124m'\u001b[39m\u001b[38;5;124mreadout_length\u001b[39m\u001b[38;5;124m'\u001b[39m] \u001b[38;5;28;01mfor\u001b[39;00m iq \u001b[38;5;129;01min\u001b[39;00m iq_list])\n",
      "Cell \u001b[1;32mIn[2375], line 5\u001b[0m, in \u001b[0;36m<listcomp>\u001b[1;34m(.0)\u001b[0m\n\u001b[0;32m      3\u001b[0m results \u001b[38;5;241m=\u001b[39m [np\u001b[38;5;241m.\u001b[39mint32(soc\u001b[38;5;241m.\u001b[39mtproc\u001b[38;5;241m.\u001b[39msingle_read(addr\u001b[38;5;241m=\u001b[39maddr)) \u001b[38;5;28;01mfor\u001b[39;00m addr \u001b[38;5;129;01min\u001b[39;00m \u001b[38;5;28mrange\u001b[39m(\u001b[38;5;241m123\u001b[39m,\u001b[38;5;241m125\u001b[39m)]\n\u001b[0;32m      4\u001b[0m \u001b[38;5;28mprint\u001b[39m(\u001b[38;5;124m\"\u001b[39m\u001b[38;5;124mI and Q values read from tproc input:\u001b[39m\u001b[38;5;124m\"\u001b[39m, results)\n\u001b[1;32m----> 5\u001b[0m \u001b[38;5;28mprint\u001b[39m(\u001b[38;5;124m\"\u001b[39m\u001b[38;5;124mI and Q values in accumulated buffer:\u001b[39m\u001b[38;5;124m\"\u001b[39m, [iq\u001b[38;5;241m*\u001b[39m\u001b[43mconfig\u001b[49m\u001b[43m[\u001b[49m\u001b[38;5;124;43m'\u001b[39;49m\u001b[38;5;124;43mreadout_length\u001b[39;49m\u001b[38;5;124;43m'\u001b[39;49m\u001b[43m]\u001b[49m \u001b[38;5;28;01mfor\u001b[39;00m iq \u001b[38;5;129;01min\u001b[39;00m iq_list])\n",
      "\u001b[1;31mKeyError\u001b[0m: 'readout_length'"
     ]
    }
   ],
   "source": [
    "iq_list = prog.acquire(soc, load_pulses=True, progress=True)\n",
    "\n",
    "results = [np.int32(soc.tproc.single_read(addr=addr)) for addr in range(123,125)]\n",
    "print(\"I and Q values read from tproc input:\", results)\n",
    "print(\"I and Q values in accumulated buffer:\", [iq*config['readout_length'] for iq in iq_list])\n"
   ]
  },
  {
   "cell_type": "markdown",
   "id": "c4558e23",
   "metadata": {},
   "source": [
    "## BELOW CELL DOES NOT WORK"
   ]
  },
  {
   "cell_type": "code",
   "execution_count": null,
   "id": "7b3bfafc",
   "metadata": {},
   "outputs": [
    {
     "name": "stdout",
     "output_type": "stream",
     "text": [
      "32768\n"
     ]
    }
   ],
   "source": [
    "prog = QickProgram(soccfg) # Create program object\n",
    "\n",
    "prog.declare_gen(ch=1, nqz=1)\n",
    "prog.set_pulse_registers(ch=1, gain=10000, freq=prog.freq2reg(100), phase=0, style=\"const\", length=500)\n",
    "prog.declare_readout(ch=1,length=100,freq=100,gen_ch=1)\n",
    "# prog.pulse(ch=1, t=0)\n",
    "prog.regwi(0,3,1)\n",
    "prog.trigger(adcs=[1], t=400, adc_trig_offset=0, rp=0, r_out=3)\n",
    "prog.waiti(0,1000)\n",
    "\n",
    "# prog.read(1,0,\"lower\",3)\n",
    "prog.regwi(0,2,1)\n",
    "# prog.condj(0,2,'>',3,'after_reset')\n",
    "prog.trigger(pins=[0], t=0, width=10)\n",
    "\n",
    "prog.memwi(0, 3, 123)\n",
    "# prog.label('after_reset')\n",
    "prog.wait_all()\n",
    "prog.end()\n",
    "\n",
    "prog.config_all(soc) # Load assembly to board\n",
    "soc.tproc.start() # Run program\n",
    "\n",
    "time.sleep(0.1)\n",
    "\n",
    "data = soc.tproc.single_read(addr=123)\n",
    "print(data)\n",
    "\n",
    "# print(prog)"
   ]
  },
  {
   "cell_type": "code",
   "execution_count": 3562,
   "id": "74899799",
   "metadata": {},
   "outputs": [
    {
     "name": "stdout",
     "output_type": "stream",
     "text": [
      "I and Q values read from tproc input: [-362, -2920]\n"
     ]
    }
   ],
   "source": [
    "prog = QickProgram(soccfg)\n",
    "freq_mhz = 200\n",
    "freq = prog.freq2reg(freq_mhz, gen_ch=1, ro_ch=1)\n",
    "length = 0.05\n",
    "gain=10000\n",
    "\n",
    "for ch in range(2):\n",
    "    prog.declare_gen(ch=ch, nqz=1)\n",
    "\n",
    "gen_length = prog.us2cycles(length, gen_ch=1)\n",
    "for ch in range(2):\n",
    "    prog.set_pulse_registers(ch=ch, freq=freq, style=\"const\", phase=0, \n",
    "                            gain=gain, length=gen_length)\n",
    "\n",
    "ro_length = prog.us2cycles(length, ro_ch=1)\n",
    "prog.declare_readout(ch=1, freq=freq_mhz, length=ro_length, gen_ch=1)\n",
    "\n",
    "prog.synci(100) \n",
    "    \n",
    "prog.trigger(adcs=[1], adc_trig_offset=132) \n",
    "prog.pulse(ch=1) \n",
    "prog.pulse(ch=0) \n",
    "\n",
    "prog.wait_all(35) #pause execution of commands until the end of the readout window, plus N cycles\n",
    "# self.waiti(1000, 0)\n",
    "# self.sync_all() #increment the time of subsequent pulse and trigger commands to the end of the last pulse, plus 500\n",
    "\n",
    "prog.read(1, 0, \"lower\", 1) # read input 0's accumulated I into page 0, reg 1 (gen_ch, p, \"upper\"/\"lower\", r)\n",
    "prog.read(1, 0, \"upper\", 2) # read input 0's accumulated Q into page 0, reg 2\n",
    "prog.memwi(0, 1, 123)\n",
    "prog.memwi(0, 2, 124)\n",
    "\n",
    "# prog.regwi(0, 1, 5000)\n",
    "\n",
    "prog.condj(0, 1, '>', 0, \"JUMP_LOC\")\n",
    "prog.pulse(ch=0)\n",
    "prog.label(\"JUMP_LOC\")\n",
    "prog.end()\n",
    "\n",
    "prog.config_all(soc) # Load the assembly onto the board\n",
    "\n",
    "# prog.compile()\n",
    "# soc.start_src(\"external\")\n",
    "# prog.load_pulses(soc)\n",
    "# prog.config_gens(soc)\n",
    "# prog.config_readouts(soc)\n",
    "# soc.load_bin_program(prog.binprog)\n",
    "\n",
    "soc.tproc.start() # Start tproc program execution\n",
    "\n",
    "results = [np.int32(soc.tproc.single_read(addr=addr)) for addr in range(123,125)]\n",
    "print(\"I and Q values read from tproc input:\", results)"
   ]
  }
 ],
 "metadata": {
  "kernelspec": {
   "display_name": "Python 3",
   "language": "python",
   "name": "python3"
  },
  "language_info": {
   "codemirror_mode": {
    "name": "ipython",
    "version": 3
   },
   "file_extension": ".py",
   "mimetype": "text/x-python",
   "name": "python",
   "nbconvert_exporter": "python",
   "pygments_lexer": "ipython3",
   "version": "3.9.13"
  }
 },
 "nbformat": 4,
 "nbformat_minor": 5
}
